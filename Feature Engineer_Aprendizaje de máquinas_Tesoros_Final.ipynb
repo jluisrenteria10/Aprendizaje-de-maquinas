{
 "cells": [
  {
   "cell_type": "code",
   "execution_count": 1,
   "metadata": {
    "colab": {
     "base_uri": "https://localhost:8080/",
     "height": 195
    },
    "colab_type": "code",
    "id": "PLUqKguZIFp8",
    "outputId": "2f8faac9-a5ee-46e2-e40c-024d4de46832",
    "scrolled": true
   },
   "outputs": [
    {
     "name": "stdout",
     "output_type": "stream",
     "text": [
      "Requirement already satisfied: fredapi in c:\\users\\gregorio.diaz\\anaconda3\\envs\\spyder\\lib\\site-packages (0.4.2)\n",
      "Requirement already satisfied: pandas in c:\\users\\gregorio.diaz\\anaconda3\\envs\\spyder\\lib\\site-packages (from fredapi) (1.0.1)\n",
      "Requirement already satisfied: numpy>=1.13.3 in c:\\users\\gregorio.diaz\\anaconda3\\envs\\spyder\\lib\\site-packages (from pandas->fredapi) (1.18.1)\n",
      "Requirement already satisfied: pytz>=2017.2 in c:\\users\\gregorio.diaz\\anaconda3\\envs\\spyder\\lib\\site-packages (from pandas->fredapi) (2019.3)\n",
      "Requirement already satisfied: python-dateutil>=2.6.1 in c:\\users\\gregorio.diaz\\anaconda3\\envs\\spyder\\lib\\site-packages (from pandas->fredapi) (2.8.1)\n",
      "Requirement already satisfied: six>=1.5 in c:\\users\\gregorio.diaz\\anaconda3\\envs\\spyder\\lib\\site-packages (from python-dateutil>=2.6.1->pandas->fredapi) (1.14.0)\n",
      "Requirement already satisfied: yellowbrick in c:\\users\\gregorio.diaz\\anaconda3\\envs\\spyder\\lib\\site-packages (1.1)\n",
      "Requirement already satisfied: numpy>=1.13.0 in c:\\users\\gregorio.diaz\\anaconda3\\envs\\spyder\\lib\\site-packages (from yellowbrick) (1.18.1)\n",
      "Requirement already satisfied: scipy>=1.0.0 in c:\\users\\gregorio.diaz\\anaconda3\\envs\\spyder\\lib\\site-packages (from yellowbrick) (1.4.1)\n",
      "Requirement already satisfied: matplotlib!=3.0.0,>=2.0.2 in c:\\users\\gregorio.diaz\\anaconda3\\envs\\spyder\\lib\\site-packages (from yellowbrick) (3.2.0)\n",
      "Requirement already satisfied: scikit-learn>=0.20 in c:\\users\\gregorio.diaz\\anaconda3\\envs\\spyder\\lib\\site-packages (from yellowbrick) (0.22.2.post1)\n",
      "Requirement already satisfied: cycler>=0.10.0 in c:\\users\\gregorio.diaz\\anaconda3\\envs\\spyder\\lib\\site-packages (from yellowbrick) (0.10.0)\n",
      "Requirement already satisfied: kiwisolver>=1.0.1 in c:\\users\\gregorio.diaz\\anaconda3\\envs\\spyder\\lib\\site-packages (from matplotlib!=3.0.0,>=2.0.2->yellowbrick) (1.1.0)\n",
      "Requirement already satisfied: pyparsing!=2.0.4,!=2.1.2,!=2.1.6,>=2.0.1 in c:\\users\\gregorio.diaz\\anaconda3\\envs\\spyder\\lib\\site-packages (from matplotlib!=3.0.0,>=2.0.2->yellowbrick) (2.4.6)\n",
      "Requirement already satisfied: python-dateutil>=2.1 in c:\\users\\gregorio.diaz\\anaconda3\\envs\\spyder\\lib\\site-packages (from matplotlib!=3.0.0,>=2.0.2->yellowbrick) (2.8.1)\n",
      "Requirement already satisfied: joblib>=0.11 in c:\\users\\gregorio.diaz\\anaconda3\\envs\\spyder\\lib\\site-packages (from scikit-learn>=0.20->yellowbrick) (0.14.1)\n",
      "Requirement already satisfied: six in c:\\users\\gregorio.diaz\\anaconda3\\envs\\spyder\\lib\\site-packages (from cycler>=0.10.0->yellowbrick) (1.14.0)\n",
      "Requirement already satisfied: setuptools in c:\\users\\gregorio.diaz\\anaconda3\\envs\\spyder\\lib\\site-packages (from kiwisolver>=1.0.1->matplotlib!=3.0.0,>=2.0.2->yellowbrick) (45.1.0.post20200127)\n"
     ]
    }
   ],
   "source": [
    "!pip install fredapi\n",
    "!pip install yellowbrick"
   ]
  },
  {
   "cell_type": "code",
   "execution_count": 2,
   "metadata": {},
   "outputs": [
    {
     "name": "stdout",
     "output_type": "stream",
     "text": [
      "Requirement already satisfied: seaborn in c:\\users\\gregorio.diaz\\anaconda3\\envs\\spyder\\lib\\site-packages (0.10.0)\n",
      "Requirement already satisfied: pandas>=0.22.0 in c:\\users\\gregorio.diaz\\anaconda3\\envs\\spyder\\lib\\site-packages (from seaborn) (1.0.1)\n",
      "Requirement already satisfied: matplotlib>=2.1.2 in c:\\users\\gregorio.diaz\\anaconda3\\envs\\spyder\\lib\\site-packages (from seaborn) (3.2.0)\n",
      "Requirement already satisfied: numpy>=1.13.3 in c:\\users\\gregorio.diaz\\anaconda3\\envs\\spyder\\lib\\site-packages (from seaborn) (1.18.1)\n",
      "Requirement already satisfied: scipy>=1.0.1 in c:\\users\\gregorio.diaz\\anaconda3\\envs\\spyder\\lib\\site-packages (from seaborn) (1.4.1)\n",
      "Requirement already satisfied: python-dateutil>=2.6.1 in c:\\users\\gregorio.diaz\\anaconda3\\envs\\spyder\\lib\\site-packages (from pandas>=0.22.0->seaborn) (2.8.1)\n",
      "Requirement already satisfied: pytz>=2017.2 in c:\\users\\gregorio.diaz\\anaconda3\\envs\\spyder\\lib\\site-packages (from pandas>=0.22.0->seaborn) (2019.3)\n",
      "Requirement already satisfied: cycler>=0.10 in c:\\users\\gregorio.diaz\\anaconda3\\envs\\spyder\\lib\\site-packages (from matplotlib>=2.1.2->seaborn) (0.10.0)\n",
      "Requirement already satisfied: pyparsing!=2.0.4,!=2.1.2,!=2.1.6,>=2.0.1 in c:\\users\\gregorio.diaz\\anaconda3\\envs\\spyder\\lib\\site-packages (from matplotlib>=2.1.2->seaborn) (2.4.6)\n",
      "Requirement already satisfied: kiwisolver>=1.0.1 in c:\\users\\gregorio.diaz\\anaconda3\\envs\\spyder\\lib\\site-packages (from matplotlib>=2.1.2->seaborn) (1.1.0)\n",
      "Requirement already satisfied: six>=1.5 in c:\\users\\gregorio.diaz\\anaconda3\\envs\\spyder\\lib\\site-packages (from python-dateutil>=2.6.1->pandas>=0.22.0->seaborn) (1.14.0)\n",
      "Requirement already satisfied: setuptools in c:\\users\\gregorio.diaz\\anaconda3\\envs\\spyder\\lib\\site-packages (from kiwisolver>=1.0.1->matplotlib>=2.1.2->seaborn) (45.1.0.post20200127)\n"
     ]
    }
   ],
   "source": [
    "!pip install seaborn"
   ]
  },
  {
   "cell_type": "code",
   "execution_count": 3,
   "metadata": {},
   "outputs": [],
   "source": [
    "import warnings\n",
    "warnings.filterwarnings('ignore')"
   ]
  },
  {
   "cell_type": "code",
   "execution_count": 4,
   "metadata": {
    "colab": {
     "base_uri": "https://localhost:8080/",
     "height": 72
    },
    "colab_type": "code",
    "id": "aqGy92HCQvuL",
    "outputId": "5308b556-4850-4f86-d274-b4f4dd1b5839"
   },
   "outputs": [],
   "source": [
    "from sklearn.model_selection import train_test_split\n",
    "from sklearn.ensemble import RandomForestRegressor\n",
    "from sklearn.metrics import r2_score\n",
    "from sklearn.feature_selection import SelectKBest \n",
    "from sklearn.feature_selection import f_classif\n",
    "import pylab \n",
    "import numpy as np\n",
    "import matplotlib.pyplot as plt\n",
    "from sklearn.externals import joblib \n",
    "import os\n",
    "import seaborn as sns\n",
    "\n",
    "from sklearn.neighbors import KNeighborsClassifier\n",
    "from sklearn.tree import DecisionTreeRegressor\n",
    "from sklearn.svm import SVR"
   ]
  },
  {
   "cell_type": "code",
   "execution_count": 5,
   "metadata": {
    "colab": {},
    "colab_type": "code",
    "id": "avzBzj4vILVv"
   },
   "outputs": [],
   "source": [
    "from fredapi import Fred\n",
    "fred = Fred(api_key='c351789db598f69b8d4c64574d1cf1da')"
   ]
  },
  {
   "cell_type": "code",
   "execution_count": 6,
   "metadata": {
    "colab": {},
    "colab_type": "code",
    "id": "CX594NbANQ5w"
   },
   "outputs": [],
   "source": [
    "from yellowbrick.regressor import CooksDistance\n",
    "import pandas as pd\n",
    "import numpy as np"
   ]
  },
  {
   "cell_type": "code",
   "execution_count": 7,
   "metadata": {
    "colab": {},
    "colab_type": "code",
    "id": "rjZMOaHJILa2"
   },
   "outputs": [],
   "source": [
    "df={}\n",
    "df['TY10'] = fred.get_series('DGS10')\n",
    "df['FED']= fred.get_series('FEDFUNDS')\n",
    "df['SHEET']=fred.get_series('WALCL')\n",
    "df['BUND10']=fred.get_series('IRLTLT01DEM156N')\n",
    "df['UNP']=fred.get_series('UNRATE')\n",
    "df['SPX']=fred.get_series('SP500')\n",
    "df['WTI']=fred.get_series('DCOILWTICO')\n",
    "df['GDPE']=fred.get_series('GDPC1')\n",
    "df['PCEEUU']=fred.get_series('PCEPILFE')\n",
    "df['CPIGER']=fred.get_series('DEUCPIALLMINMEI')\n",
    "df['RETAIL']=fred.get_series('RRSFS')\n",
    "df['GOODS']=fred.get_series('DGORDER')\n",
    "df['MANUF']=fred.get_series('IPMAN')\n",
    "df['INVENT']=fred.get_series('BUSINV')\n",
    "df['GDPP']=fred.get_series('A191RL1Q225SBEA')\n",
    "df['INDPP']=fred.get_series('INDPRO')\n",
    "df['NONFARM']=fred.get_series('PAYEMS')\n",
    "df['TBILL3']=fred.get_series('DTB3')\n",
    "df['M2']=fred.get_series('M2')\n",
    "df['GDPGER']=fred.get_series('CPMNACSCAB1GQDE')\n",
    "df['M1']=fred.get_series('M1')\n",
    "df['VIX']=fred.get_series('VIXCLS')\n",
    "df['COMERLOAN']=fred.get_series('TOTCI')\n",
    "df['TOTALASSETBANK']=fred.get_series('TLAACBW027SBOG')\n",
    "df['CHIFEDCONDIT']=fred.get_series('NFCI')\n",
    "df['CHIFEDACT']=fred.get_series('CFNAI')\n",
    "df['CONSUSENT']=fred.get_series('UMCSENT')\n",
    "df['TY2']= fred.get_series('DGS2')\n",
    "df = pd.DataFrame(df)"
   ]
  },
  {
   "cell_type": "code",
   "execution_count": 8,
   "metadata": {
    "colab": {},
    "colab_type": "code",
    "id": "fn2_tJALNFXE"
   },
   "outputs": [],
   "source": [
    "df=df.fillna(method=\"ffill\")\n",
    "df=df.dropna()"
   ]
  },
  {
   "cell_type": "code",
   "execution_count": 9,
   "metadata": {
    "scrolled": true
   },
   "outputs": [
    {
     "data": {
      "text/html": [
       "<div>\n",
       "<style scoped>\n",
       "    .dataframe tbody tr th:only-of-type {\n",
       "        vertical-align: middle;\n",
       "    }\n",
       "\n",
       "    .dataframe tbody tr th {\n",
       "        vertical-align: top;\n",
       "    }\n",
       "\n",
       "    .dataframe thead th {\n",
       "        text-align: right;\n",
       "    }\n",
       "</style>\n",
       "<table border=\"1\" class=\"dataframe\">\n",
       "  <thead>\n",
       "    <tr style=\"text-align: right;\">\n",
       "      <th></th>\n",
       "      <th>TY10</th>\n",
       "      <th>FED</th>\n",
       "      <th>SHEET</th>\n",
       "      <th>BUND10</th>\n",
       "      <th>UNP</th>\n",
       "      <th>SPX</th>\n",
       "      <th>WTI</th>\n",
       "      <th>GDPE</th>\n",
       "      <th>PCEEUU</th>\n",
       "      <th>CPIGER</th>\n",
       "      <th>...</th>\n",
       "      <th>M2</th>\n",
       "      <th>GDPGER</th>\n",
       "      <th>M1</th>\n",
       "      <th>VIX</th>\n",
       "      <th>COMERLOAN</th>\n",
       "      <th>TOTALASSETBANK</th>\n",
       "      <th>CHIFEDCONDIT</th>\n",
       "      <th>CHIFEDACT</th>\n",
       "      <th>CONSUSENT</th>\n",
       "      <th>TY2</th>\n",
       "    </tr>\n",
       "  </thead>\n",
       "  <tbody>\n",
       "    <tr>\n",
       "      <th>2010-04-19</th>\n",
       "      <td>3.83</td>\n",
       "      <td>0.20</td>\n",
       "      <td>2339345.0</td>\n",
       "      <td>3.06</td>\n",
       "      <td>9.9</td>\n",
       "      <td>1197.52</td>\n",
       "      <td>81.52</td>\n",
       "      <td>15557.277</td>\n",
       "      <td>96.456</td>\n",
       "      <td>93.292064</td>\n",
       "      <td>...</td>\n",
       "      <td>8509.3</td>\n",
       "      <td>635498.0</td>\n",
       "      <td>1699.4</td>\n",
       "      <td>17.34</td>\n",
       "      <td>1210.1700</td>\n",
       "      <td>11853.6442</td>\n",
       "      <td>-0.27</td>\n",
       "      <td>0.60</td>\n",
       "      <td>72.2</td>\n",
       "      <td>1.01</td>\n",
       "    </tr>\n",
       "    <tr>\n",
       "      <th>2010-04-20</th>\n",
       "      <td>3.82</td>\n",
       "      <td>0.20</td>\n",
       "      <td>2339345.0</td>\n",
       "      <td>3.06</td>\n",
       "      <td>9.9</td>\n",
       "      <td>1207.17</td>\n",
       "      <td>82.98</td>\n",
       "      <td>15557.277</td>\n",
       "      <td>96.456</td>\n",
       "      <td>93.292064</td>\n",
       "      <td>...</td>\n",
       "      <td>8509.3</td>\n",
       "      <td>635498.0</td>\n",
       "      <td>1699.4</td>\n",
       "      <td>15.73</td>\n",
       "      <td>1210.1700</td>\n",
       "      <td>11853.6442</td>\n",
       "      <td>-0.27</td>\n",
       "      <td>0.60</td>\n",
       "      <td>72.2</td>\n",
       "      <td>1.05</td>\n",
       "    </tr>\n",
       "    <tr>\n",
       "      <th>2010-04-21</th>\n",
       "      <td>3.77</td>\n",
       "      <td>0.20</td>\n",
       "      <td>2337556.0</td>\n",
       "      <td>3.06</td>\n",
       "      <td>9.9</td>\n",
       "      <td>1205.94</td>\n",
       "      <td>82.78</td>\n",
       "      <td>15557.277</td>\n",
       "      <td>96.456</td>\n",
       "      <td>93.292064</td>\n",
       "      <td>...</td>\n",
       "      <td>8509.3</td>\n",
       "      <td>635498.0</td>\n",
       "      <td>1699.4</td>\n",
       "      <td>16.32</td>\n",
       "      <td>1208.4965</td>\n",
       "      <td>11841.9767</td>\n",
       "      <td>-0.27</td>\n",
       "      <td>0.60</td>\n",
       "      <td>72.2</td>\n",
       "      <td>1.03</td>\n",
       "    </tr>\n",
       "    <tr>\n",
       "      <th>2010-04-22</th>\n",
       "      <td>3.80</td>\n",
       "      <td>0.20</td>\n",
       "      <td>2337556.0</td>\n",
       "      <td>3.06</td>\n",
       "      <td>9.9</td>\n",
       "      <td>1208.67</td>\n",
       "      <td>82.89</td>\n",
       "      <td>15557.277</td>\n",
       "      <td>96.456</td>\n",
       "      <td>93.292064</td>\n",
       "      <td>...</td>\n",
       "      <td>8509.3</td>\n",
       "      <td>635498.0</td>\n",
       "      <td>1699.4</td>\n",
       "      <td>16.47</td>\n",
       "      <td>1208.4965</td>\n",
       "      <td>11841.9767</td>\n",
       "      <td>-0.27</td>\n",
       "      <td>0.60</td>\n",
       "      <td>72.2</td>\n",
       "      <td>1.07</td>\n",
       "    </tr>\n",
       "    <tr>\n",
       "      <th>2010-04-23</th>\n",
       "      <td>3.84</td>\n",
       "      <td>0.20</td>\n",
       "      <td>2337556.0</td>\n",
       "      <td>3.06</td>\n",
       "      <td>9.9</td>\n",
       "      <td>1217.28</td>\n",
       "      <td>84.34</td>\n",
       "      <td>15557.277</td>\n",
       "      <td>96.456</td>\n",
       "      <td>93.292064</td>\n",
       "      <td>...</td>\n",
       "      <td>8509.3</td>\n",
       "      <td>635498.0</td>\n",
       "      <td>1699.4</td>\n",
       "      <td>16.62</td>\n",
       "      <td>1208.4965</td>\n",
       "      <td>11841.9767</td>\n",
       "      <td>-0.24</td>\n",
       "      <td>0.60</td>\n",
       "      <td>72.2</td>\n",
       "      <td>1.10</td>\n",
       "    </tr>\n",
       "    <tr>\n",
       "      <th>...</th>\n",
       "      <td>...</td>\n",
       "      <td>...</td>\n",
       "      <td>...</td>\n",
       "      <td>...</td>\n",
       "      <td>...</td>\n",
       "      <td>...</td>\n",
       "      <td>...</td>\n",
       "      <td>...</td>\n",
       "      <td>...</td>\n",
       "      <td>...</td>\n",
       "      <td>...</td>\n",
       "      <td>...</td>\n",
       "      <td>...</td>\n",
       "      <td>...</td>\n",
       "      <td>...</td>\n",
       "      <td>...</td>\n",
       "      <td>...</td>\n",
       "      <td>...</td>\n",
       "      <td>...</td>\n",
       "      <td>...</td>\n",
       "      <td>...</td>\n",
       "    </tr>\n",
       "    <tr>\n",
       "      <th>2020-04-13</th>\n",
       "      <td>0.76</td>\n",
       "      <td>0.65</td>\n",
       "      <td>6083141.0</td>\n",
       "      <td>-0.54</td>\n",
       "      <td>4.4</td>\n",
       "      <td>2761.63</td>\n",
       "      <td>22.36</td>\n",
       "      <td>19221.970</td>\n",
       "      <td>112.917</td>\n",
       "      <td>105.617603</td>\n",
       "      <td>...</td>\n",
       "      <td>16743.2</td>\n",
       "      <td>869130.0</td>\n",
       "      <td>4599.0</td>\n",
       "      <td>41.17</td>\n",
       "      <td>2870.9243</td>\n",
       "      <td>19730.2363</td>\n",
       "      <td>-0.02</td>\n",
       "      <td>0.16</td>\n",
       "      <td>101.0</td>\n",
       "      <td>0.25</td>\n",
       "    </tr>\n",
       "    <tr>\n",
       "      <th>2020-04-14</th>\n",
       "      <td>0.76</td>\n",
       "      <td>0.65</td>\n",
       "      <td>6083141.0</td>\n",
       "      <td>-0.54</td>\n",
       "      <td>4.4</td>\n",
       "      <td>2846.06</td>\n",
       "      <td>22.36</td>\n",
       "      <td>19221.970</td>\n",
       "      <td>112.917</td>\n",
       "      <td>105.617603</td>\n",
       "      <td>...</td>\n",
       "      <td>16743.2</td>\n",
       "      <td>869130.0</td>\n",
       "      <td>4599.0</td>\n",
       "      <td>37.76</td>\n",
       "      <td>2870.9243</td>\n",
       "      <td>19730.2363</td>\n",
       "      <td>-0.02</td>\n",
       "      <td>0.16</td>\n",
       "      <td>101.0</td>\n",
       "      <td>0.23</td>\n",
       "    </tr>\n",
       "    <tr>\n",
       "      <th>2020-04-15</th>\n",
       "      <td>0.63</td>\n",
       "      <td>0.65</td>\n",
       "      <td>6367887.0</td>\n",
       "      <td>-0.54</td>\n",
       "      <td>4.4</td>\n",
       "      <td>2783.36</td>\n",
       "      <td>22.36</td>\n",
       "      <td>19221.970</td>\n",
       "      <td>112.917</td>\n",
       "      <td>105.617603</td>\n",
       "      <td>...</td>\n",
       "      <td>16743.2</td>\n",
       "      <td>869130.0</td>\n",
       "      <td>4599.0</td>\n",
       "      <td>40.84</td>\n",
       "      <td>2870.9243</td>\n",
       "      <td>19730.2363</td>\n",
       "      <td>-0.02</td>\n",
       "      <td>0.16</td>\n",
       "      <td>101.0</td>\n",
       "      <td>0.20</td>\n",
       "    </tr>\n",
       "    <tr>\n",
       "      <th>2020-04-16</th>\n",
       "      <td>0.61</td>\n",
       "      <td>0.65</td>\n",
       "      <td>6367887.0</td>\n",
       "      <td>-0.54</td>\n",
       "      <td>4.4</td>\n",
       "      <td>2799.55</td>\n",
       "      <td>22.36</td>\n",
       "      <td>19221.970</td>\n",
       "      <td>112.917</td>\n",
       "      <td>105.617603</td>\n",
       "      <td>...</td>\n",
       "      <td>16743.2</td>\n",
       "      <td>869130.0</td>\n",
       "      <td>4599.0</td>\n",
       "      <td>40.11</td>\n",
       "      <td>2870.9243</td>\n",
       "      <td>19730.2363</td>\n",
       "      <td>-0.02</td>\n",
       "      <td>0.16</td>\n",
       "      <td>101.0</td>\n",
       "      <td>0.20</td>\n",
       "    </tr>\n",
       "    <tr>\n",
       "      <th>2020-04-17</th>\n",
       "      <td>0.61</td>\n",
       "      <td>0.65</td>\n",
       "      <td>6367887.0</td>\n",
       "      <td>-0.54</td>\n",
       "      <td>4.4</td>\n",
       "      <td>2874.56</td>\n",
       "      <td>22.36</td>\n",
       "      <td>19221.970</td>\n",
       "      <td>112.917</td>\n",
       "      <td>105.617603</td>\n",
       "      <td>...</td>\n",
       "      <td>16743.2</td>\n",
       "      <td>869130.0</td>\n",
       "      <td>4599.0</td>\n",
       "      <td>40.11</td>\n",
       "      <td>2870.9243</td>\n",
       "      <td>19730.2363</td>\n",
       "      <td>-0.02</td>\n",
       "      <td>0.16</td>\n",
       "      <td>101.0</td>\n",
       "      <td>0.20</td>\n",
       "    </tr>\n",
       "  </tbody>\n",
       "</table>\n",
       "<p>2646 rows × 28 columns</p>\n",
       "</div>"
      ],
      "text/plain": [
       "            TY10   FED      SHEET  BUND10  UNP      SPX    WTI       GDPE  \\\n",
       "2010-04-19  3.83  0.20  2339345.0    3.06  9.9  1197.52  81.52  15557.277   \n",
       "2010-04-20  3.82  0.20  2339345.0    3.06  9.9  1207.17  82.98  15557.277   \n",
       "2010-04-21  3.77  0.20  2337556.0    3.06  9.9  1205.94  82.78  15557.277   \n",
       "2010-04-22  3.80  0.20  2337556.0    3.06  9.9  1208.67  82.89  15557.277   \n",
       "2010-04-23  3.84  0.20  2337556.0    3.06  9.9  1217.28  84.34  15557.277   \n",
       "...          ...   ...        ...     ...  ...      ...    ...        ...   \n",
       "2020-04-13  0.76  0.65  6083141.0   -0.54  4.4  2761.63  22.36  19221.970   \n",
       "2020-04-14  0.76  0.65  6083141.0   -0.54  4.4  2846.06  22.36  19221.970   \n",
       "2020-04-15  0.63  0.65  6367887.0   -0.54  4.4  2783.36  22.36  19221.970   \n",
       "2020-04-16  0.61  0.65  6367887.0   -0.54  4.4  2799.55  22.36  19221.970   \n",
       "2020-04-17  0.61  0.65  6367887.0   -0.54  4.4  2874.56  22.36  19221.970   \n",
       "\n",
       "             PCEEUU      CPIGER  ...       M2    GDPGER      M1    VIX  \\\n",
       "2010-04-19   96.456   93.292064  ...   8509.3  635498.0  1699.4  17.34   \n",
       "2010-04-20   96.456   93.292064  ...   8509.3  635498.0  1699.4  15.73   \n",
       "2010-04-21   96.456   93.292064  ...   8509.3  635498.0  1699.4  16.32   \n",
       "2010-04-22   96.456   93.292064  ...   8509.3  635498.0  1699.4  16.47   \n",
       "2010-04-23   96.456   93.292064  ...   8509.3  635498.0  1699.4  16.62   \n",
       "...             ...         ...  ...      ...       ...     ...    ...   \n",
       "2020-04-13  112.917  105.617603  ...  16743.2  869130.0  4599.0  41.17   \n",
       "2020-04-14  112.917  105.617603  ...  16743.2  869130.0  4599.0  37.76   \n",
       "2020-04-15  112.917  105.617603  ...  16743.2  869130.0  4599.0  40.84   \n",
       "2020-04-16  112.917  105.617603  ...  16743.2  869130.0  4599.0  40.11   \n",
       "2020-04-17  112.917  105.617603  ...  16743.2  869130.0  4599.0  40.11   \n",
       "\n",
       "            COMERLOAN  TOTALASSETBANK  CHIFEDCONDIT  CHIFEDACT  CONSUSENT  \\\n",
       "2010-04-19  1210.1700      11853.6442         -0.27       0.60       72.2   \n",
       "2010-04-20  1210.1700      11853.6442         -0.27       0.60       72.2   \n",
       "2010-04-21  1208.4965      11841.9767         -0.27       0.60       72.2   \n",
       "2010-04-22  1208.4965      11841.9767         -0.27       0.60       72.2   \n",
       "2010-04-23  1208.4965      11841.9767         -0.24       0.60       72.2   \n",
       "...               ...             ...           ...        ...        ...   \n",
       "2020-04-13  2870.9243      19730.2363         -0.02       0.16      101.0   \n",
       "2020-04-14  2870.9243      19730.2363         -0.02       0.16      101.0   \n",
       "2020-04-15  2870.9243      19730.2363         -0.02       0.16      101.0   \n",
       "2020-04-16  2870.9243      19730.2363         -0.02       0.16      101.0   \n",
       "2020-04-17  2870.9243      19730.2363         -0.02       0.16      101.0   \n",
       "\n",
       "             TY2  \n",
       "2010-04-19  1.01  \n",
       "2010-04-20  1.05  \n",
       "2010-04-21  1.03  \n",
       "2010-04-22  1.07  \n",
       "2010-04-23  1.10  \n",
       "...          ...  \n",
       "2020-04-13  0.25  \n",
       "2020-04-14  0.23  \n",
       "2020-04-15  0.20  \n",
       "2020-04-16  0.20  \n",
       "2020-04-17  0.20  \n",
       "\n",
       "[2646 rows x 28 columns]"
      ]
     },
     "execution_count": 9,
     "metadata": {},
     "output_type": "execute_result"
    }
   ],
   "source": [
    "df"
   ]
  },
  {
   "cell_type": "code",
   "execution_count": 10,
   "metadata": {
    "scrolled": false
   },
   "outputs": [
    {
     "data": {
      "text/html": [
       "<div>\n",
       "<style scoped>\n",
       "    .dataframe tbody tr th:only-of-type {\n",
       "        vertical-align: middle;\n",
       "    }\n",
       "\n",
       "    .dataframe tbody tr th {\n",
       "        vertical-align: top;\n",
       "    }\n",
       "\n",
       "    .dataframe thead th {\n",
       "        text-align: right;\n",
       "    }\n",
       "</style>\n",
       "<table border=\"1\" class=\"dataframe\">\n",
       "  <thead>\n",
       "    <tr style=\"text-align: right;\">\n",
       "      <th></th>\n",
       "      <th>TY10</th>\n",
       "      <th>FED</th>\n",
       "      <th>SHEET</th>\n",
       "      <th>BUND10</th>\n",
       "      <th>UNP</th>\n",
       "      <th>SPX</th>\n",
       "      <th>WTI</th>\n",
       "      <th>GDPE</th>\n",
       "      <th>PCEEUU</th>\n",
       "      <th>CPIGER</th>\n",
       "      <th>...</th>\n",
       "      <th>M2</th>\n",
       "      <th>GDPGER</th>\n",
       "      <th>M1</th>\n",
       "      <th>VIX</th>\n",
       "      <th>COMERLOAN</th>\n",
       "      <th>TOTALASSETBANK</th>\n",
       "      <th>CHIFEDCONDIT</th>\n",
       "      <th>CHIFEDACT</th>\n",
       "      <th>CONSUSENT</th>\n",
       "      <th>TY2</th>\n",
       "    </tr>\n",
       "  </thead>\n",
       "  <tbody>\n",
       "    <tr>\n",
       "      <th>count</th>\n",
       "      <td>2646.000000</td>\n",
       "      <td>2646.000000</td>\n",
       "      <td>2.646000e+03</td>\n",
       "      <td>2646.000000</td>\n",
       "      <td>2646.000000</td>\n",
       "      <td>2646.000000</td>\n",
       "      <td>2646.000000</td>\n",
       "      <td>2646.000000</td>\n",
       "      <td>2646.000000</td>\n",
       "      <td>2646.000000</td>\n",
       "      <td>...</td>\n",
       "      <td>2646.000000</td>\n",
       "      <td>2646.000000</td>\n",
       "      <td>2646.000000</td>\n",
       "      <td>2646.00000</td>\n",
       "      <td>2646.000000</td>\n",
       "      <td>2646.000000</td>\n",
       "      <td>2646.000000</td>\n",
       "      <td>2646.000000</td>\n",
       "      <td>2646.000000</td>\n",
       "      <td>2646.000000</td>\n",
       "    </tr>\n",
       "    <tr>\n",
       "      <th>mean</th>\n",
       "      <td>2.330964</td>\n",
       "      <td>0.643303</td>\n",
       "      <td>3.806098e+06</td>\n",
       "      <td>0.954403</td>\n",
       "      <td>6.042215</td>\n",
       "      <td>2017.865215</td>\n",
       "      <td>71.321481</td>\n",
       "      <td>17308.974807</td>\n",
       "      <td>104.417960</td>\n",
       "      <td>99.908081</td>\n",
       "      <td>...</td>\n",
       "      <td>11947.560469</td>\n",
       "      <td>755660.942555</td>\n",
       "      <td>2944.429478</td>\n",
       "      <td>17.25189</td>\n",
       "      <td>1796.699396</td>\n",
       "      <td>14882.480579</td>\n",
       "      <td>-0.534252</td>\n",
       "      <td>-0.049384</td>\n",
       "      <td>86.306538</td>\n",
       "      <td>0.961757</td>\n",
       "    </tr>\n",
       "    <tr>\n",
       "      <th>std</th>\n",
       "      <td>0.542152</td>\n",
       "      <td>0.762846</td>\n",
       "      <td>7.760185e+05</td>\n",
       "      <td>0.985780</td>\n",
       "      <td>1.992139</td>\n",
       "      <td>599.740678</td>\n",
       "      <td>22.634421</td>\n",
       "      <td>1141.517785</td>\n",
       "      <td>4.808889</td>\n",
       "      <td>3.505102</td>\n",
       "      <td>...</td>\n",
       "      <td>2044.173448</td>\n",
       "      <td>70265.490572</td>\n",
       "      <td>686.347005</td>\n",
       "      <td>7.15812</td>\n",
       "      <td>398.653260</td>\n",
       "      <td>1926.837524</td>\n",
       "      <td>0.245756</td>\n",
       "      <td>0.376181</td>\n",
       "      <td>11.321387</td>\n",
       "      <td>0.755575</td>\n",
       "    </tr>\n",
       "    <tr>\n",
       "      <th>min</th>\n",
       "      <td>0.540000</td>\n",
       "      <td>0.070000</td>\n",
       "      <td>2.295392e+06</td>\n",
       "      <td>-0.650000</td>\n",
       "      <td>3.500000</td>\n",
       "      <td>1022.580000</td>\n",
       "      <td>14.100000</td>\n",
       "      <td>15557.277000</td>\n",
       "      <td>96.456000</td>\n",
       "      <td>93.198772</td>\n",
       "      <td>...</td>\n",
       "      <td>8509.300000</td>\n",
       "      <td>635498.000000</td>\n",
       "      <td>1692.300000</td>\n",
       "      <td>9.14000</td>\n",
       "      <td>1181.818600</td>\n",
       "      <td>11683.050700</td>\n",
       "      <td>-0.830000</td>\n",
       "      <td>-0.960000</td>\n",
       "      <td>55.800000</td>\n",
       "      <td>0.160000</td>\n",
       "    </tr>\n",
       "    <tr>\n",
       "      <th>25%</th>\n",
       "      <td>1.920000</td>\n",
       "      <td>0.110000</td>\n",
       "      <td>2.917189e+06</td>\n",
       "      <td>0.250000</td>\n",
       "      <td>4.300000</td>\n",
       "      <td>1416.697500</td>\n",
       "      <td>51.472500</td>\n",
       "      <td>16239.138000</td>\n",
       "      <td>100.476000</td>\n",
       "      <td>97.583499</td>\n",
       "      <td>...</td>\n",
       "      <td>10245.400000</td>\n",
       "      <td>691578.000000</td>\n",
       "      <td>2417.100000</td>\n",
       "      <td>13.00500</td>\n",
       "      <td>1448.162800</td>\n",
       "      <td>12868.883200</td>\n",
       "      <td>-0.730000</td>\n",
       "      <td>-0.370000</td>\n",
       "      <td>76.400000</td>\n",
       "      <td>0.370000</td>\n",
       "    </tr>\n",
       "    <tr>\n",
       "      <th>50%</th>\n",
       "      <td>2.310000</td>\n",
       "      <td>0.180000</td>\n",
       "      <td>4.145912e+06</td>\n",
       "      <td>0.610000</td>\n",
       "      <td>5.400000</td>\n",
       "      <td>2026.680000</td>\n",
       "      <td>67.875000</td>\n",
       "      <td>17405.669000</td>\n",
       "      <td>104.152000</td>\n",
       "      <td>99.716619</td>\n",
       "      <td>...</td>\n",
       "      <td>11913.000000</td>\n",
       "      <td>755270.000000</td>\n",
       "      <td>2998.100000</td>\n",
       "      <td>15.39500</td>\n",
       "      <td>1849.142400</td>\n",
       "      <td>15333.280000</td>\n",
       "      <td>-0.600000</td>\n",
       "      <td>-0.070000</td>\n",
       "      <td>89.800000</td>\n",
       "      <td>0.670000</td>\n",
       "    </tr>\n",
       "    <tr>\n",
       "      <th>75%</th>\n",
       "      <td>2.720000</td>\n",
       "      <td>1.150000</td>\n",
       "      <td>4.462871e+06</td>\n",
       "      <td>1.620000</td>\n",
       "      <td>7.900000</td>\n",
       "      <td>2505.955000</td>\n",
       "      <td>93.432500</td>\n",
       "      <td>18322.464000</td>\n",
       "      <td>108.392000</td>\n",
       "      <td>102.517086</td>\n",
       "      <td>...</td>\n",
       "      <td>13765.800000</td>\n",
       "      <td>826030.000000</td>\n",
       "      <td>3596.000000</td>\n",
       "      <td>18.94000</td>\n",
       "      <td>2102.642300</td>\n",
       "      <td>16591.385125</td>\n",
       "      <td>-0.370000</td>\n",
       "      <td>0.230000</td>\n",
       "      <td>96.300000</td>\n",
       "      <td>1.370000</td>\n",
       "    </tr>\n",
       "    <tr>\n",
       "      <th>max</th>\n",
       "      <td>3.840000</td>\n",
       "      <td>2.420000</td>\n",
       "      <td>6.367887e+06</td>\n",
       "      <td>3.340000</td>\n",
       "      <td>9.900000</td>\n",
       "      <td>3386.150000</td>\n",
       "      <td>113.390000</td>\n",
       "      <td>19221.970000</td>\n",
       "      <td>112.917000</td>\n",
       "      <td>106.217703</td>\n",
       "      <td>...</td>\n",
       "      <td>16743.200000</td>\n",
       "      <td>869130.000000</td>\n",
       "      <td>4599.000000</td>\n",
       "      <td>82.69000</td>\n",
       "      <td>2870.924300</td>\n",
       "      <td>19775.193200</td>\n",
       "      <td>0.150000</td>\n",
       "      <td>0.880000</td>\n",
       "      <td>101.400000</td>\n",
       "      <td>2.980000</td>\n",
       "    </tr>\n",
       "  </tbody>\n",
       "</table>\n",
       "<p>8 rows × 28 columns</p>\n",
       "</div>"
      ],
      "text/plain": [
       "              TY10          FED         SHEET       BUND10          UNP  \\\n",
       "count  2646.000000  2646.000000  2.646000e+03  2646.000000  2646.000000   \n",
       "mean      2.330964     0.643303  3.806098e+06     0.954403     6.042215   \n",
       "std       0.542152     0.762846  7.760185e+05     0.985780     1.992139   \n",
       "min       0.540000     0.070000  2.295392e+06    -0.650000     3.500000   \n",
       "25%       1.920000     0.110000  2.917189e+06     0.250000     4.300000   \n",
       "50%       2.310000     0.180000  4.145912e+06     0.610000     5.400000   \n",
       "75%       2.720000     1.150000  4.462871e+06     1.620000     7.900000   \n",
       "max       3.840000     2.420000  6.367887e+06     3.340000     9.900000   \n",
       "\n",
       "               SPX          WTI          GDPE       PCEEUU       CPIGER  ...  \\\n",
       "count  2646.000000  2646.000000   2646.000000  2646.000000  2646.000000  ...   \n",
       "mean   2017.865215    71.321481  17308.974807   104.417960    99.908081  ...   \n",
       "std     599.740678    22.634421   1141.517785     4.808889     3.505102  ...   \n",
       "min    1022.580000    14.100000  15557.277000    96.456000    93.198772  ...   \n",
       "25%    1416.697500    51.472500  16239.138000   100.476000    97.583499  ...   \n",
       "50%    2026.680000    67.875000  17405.669000   104.152000    99.716619  ...   \n",
       "75%    2505.955000    93.432500  18322.464000   108.392000   102.517086  ...   \n",
       "max    3386.150000   113.390000  19221.970000   112.917000   106.217703  ...   \n",
       "\n",
       "                 M2         GDPGER           M1         VIX    COMERLOAN  \\\n",
       "count   2646.000000    2646.000000  2646.000000  2646.00000  2646.000000   \n",
       "mean   11947.560469  755660.942555  2944.429478    17.25189  1796.699396   \n",
       "std     2044.173448   70265.490572   686.347005     7.15812   398.653260   \n",
       "min     8509.300000  635498.000000  1692.300000     9.14000  1181.818600   \n",
       "25%    10245.400000  691578.000000  2417.100000    13.00500  1448.162800   \n",
       "50%    11913.000000  755270.000000  2998.100000    15.39500  1849.142400   \n",
       "75%    13765.800000  826030.000000  3596.000000    18.94000  2102.642300   \n",
       "max    16743.200000  869130.000000  4599.000000    82.69000  2870.924300   \n",
       "\n",
       "       TOTALASSETBANK  CHIFEDCONDIT    CHIFEDACT    CONSUSENT          TY2  \n",
       "count     2646.000000   2646.000000  2646.000000  2646.000000  2646.000000  \n",
       "mean     14882.480579     -0.534252    -0.049384    86.306538     0.961757  \n",
       "std       1926.837524      0.245756     0.376181    11.321387     0.755575  \n",
       "min      11683.050700     -0.830000    -0.960000    55.800000     0.160000  \n",
       "25%      12868.883200     -0.730000    -0.370000    76.400000     0.370000  \n",
       "50%      15333.280000     -0.600000    -0.070000    89.800000     0.670000  \n",
       "75%      16591.385125     -0.370000     0.230000    96.300000     1.370000  \n",
       "max      19775.193200      0.150000     0.880000   101.400000     2.980000  \n",
       "\n",
       "[8 rows x 28 columns]"
      ]
     },
     "execution_count": 10,
     "metadata": {},
     "output_type": "execute_result"
    }
   ],
   "source": [
    "df.describe()"
   ]
  },
  {
   "cell_type": "code",
   "execution_count": 13,
   "metadata": {
    "scrolled": false
   },
   "outputs": [
    {
     "data": {
      "text/plain": [
       "[<matplotlib.lines.Line2D at 0x190e1bc2340>]"
      ]
     },
     "execution_count": 13,
     "metadata": {},
     "output_type": "execute_result"
    },
    {
     "data": {
      "image/png": "[encoded data removed]",
      "text/plain": [
       "<Figure size 576x396 with 1 Axes>"
      ]
     },
     "metadata": {},
     "output_type": "display_data"
    }
   ],
   "source": [
    "plt.plot(range(0,2646),df['TY10'],color='blue')\n",
    "#plt.plot(range(0,2519),df_cleaned['TY10'],color='green')"
   ]
  },
  {
   "cell_type": "code",
   "execution_count": 14,
   "metadata": {
    "scrolled": false
   },
   "outputs": [
    {
     "data": {
      "text/plain": [
       "<function matplotlib.pyplot.show(*args, **kw)>"
      ]
     },
     "execution_count": 14,
     "metadata": {},
     "output_type": "execute_result"
    },
    {
     "data": {
      "image/png": "[encoded data removed]",
      "text/plain": [
       "<Figure size 1080x720 with 30 Axes>"
      ]
     },
     "metadata": {},
     "output_type": "display_data"
    }
   ],
   "source": [
    "df.hist(figsize=(15, 10))\n",
    "plt.show"
   ]
  },
  {
   "cell_type": "code",
   "execution_count": 15,
   "metadata": {
    "scrolled": true
   },
   "outputs": [
    {
     "name": "stdout",
     "output_type": "stream",
     "text": [
      "['TY10' 'FED' 'SHEET' 'BUND10' 'UNP' 'SPX' 'WTI' 'GDPE' 'PCEEUU' 'CPIGER'\n",
      " 'RETAIL' 'GOODS' 'MANUF' 'INVENT' 'GDPP' 'INDPP' 'NONFARM' 'TBILL3' 'M2'\n",
      " 'GDPGER' 'M1' 'VIX' 'COMERLOAN' 'TOTALASSETBANK' 'CHIFEDCONDIT'\n",
      " 'CHIFEDACT' 'CONSUSENT' 'TY2']\n"
     ]
    }
   ],
   "source": [
    "print(df.columns.values)"
   ]
  },
  {
   "cell_type": "code",
   "execution_count": 16,
   "metadata": {
    "scrolled": false
   },
   "outputs": [
    {
     "data": {
      "text/plain": [
       "<bound method DataFrame.info of             TY10   FED      SHEET  BUND10  UNP      SPX    WTI       GDPE  \\\n",
       "2010-04-19  3.83  0.20  2339345.0    3.06  9.9  1197.52  81.52  15557.277   \n",
       "2010-04-20  3.82  0.20  2339345.0    3.06  9.9  1207.17  82.98  15557.277   \n",
       "2010-04-21  3.77  0.20  2337556.0    3.06  9.9  1205.94  82.78  15557.277   \n",
       "2010-04-22  3.80  0.20  2337556.0    3.06  9.9  1208.67  82.89  15557.277   \n",
       "2010-04-23  3.84  0.20  2337556.0    3.06  9.9  1217.28  84.34  15557.277   \n",
       "...          ...   ...        ...     ...  ...      ...    ...        ...   \n",
       "2020-04-13  0.76  0.65  6083141.0   -0.54  4.4  2761.63  22.36  19221.970   \n",
       "2020-04-14  0.76  0.65  6083141.0   -0.54  4.4  2846.06  22.36  19221.970   \n",
       "2020-04-15  0.63  0.65  6367887.0   -0.54  4.4  2783.36  22.36  19221.970   \n",
       "2020-04-16  0.61  0.65  6367887.0   -0.54  4.4  2799.55  22.36  19221.970   \n",
       "2020-04-17  0.61  0.65  6367887.0   -0.54  4.4  2874.56  22.36  19221.970   \n",
       "\n",
       "             PCEEUU      CPIGER  ...       M2    GDPGER      M1    VIX  \\\n",
       "2010-04-19   96.456   93.292064  ...   8509.3  635498.0  1699.4  17.34   \n",
       "2010-04-20   96.456   93.292064  ...   8509.3  635498.0  1699.4  15.73   \n",
       "2010-04-21   96.456   93.292064  ...   8509.3  635498.0  1699.4  16.32   \n",
       "2010-04-22   96.456   93.292064  ...   8509.3  635498.0  1699.4  16.47   \n",
       "2010-04-23   96.456   93.292064  ...   8509.3  635498.0  1699.4  16.62   \n",
       "...             ...         ...  ...      ...       ...     ...    ...   \n",
       "2020-04-13  112.917  105.617603  ...  16743.2  869130.0  4599.0  41.17   \n",
       "2020-04-14  112.917  105.617603  ...  16743.2  869130.0  4599.0  37.76   \n",
       "2020-04-15  112.917  105.617603  ...  16743.2  869130.0  4599.0  40.84   \n",
       "2020-04-16  112.917  105.617603  ...  16743.2  869130.0  4599.0  40.11   \n",
       "2020-04-17  112.917  105.617603  ...  16743.2  869130.0  4599.0  40.11   \n",
       "\n",
       "            COMERLOAN  TOTALASSETBANK  CHIFEDCONDIT  CHIFEDACT  CONSUSENT  \\\n",
       "2010-04-19  1210.1700      11853.6442         -0.27       0.60       72.2   \n",
       "2010-04-20  1210.1700      11853.6442         -0.27       0.60       72.2   \n",
       "2010-04-21  1208.4965      11841.9767         -0.27       0.60       72.2   \n",
       "2010-04-22  1208.4965      11841.9767         -0.27       0.60       72.2   \n",
       "2010-04-23  1208.4965      11841.9767         -0.24       0.60       72.2   \n",
       "...               ...             ...           ...        ...        ...   \n",
       "2020-04-13  2870.9243      19730.2363         -0.02       0.16      101.0   \n",
       "2020-04-14  2870.9243      19730.2363         -0.02       0.16      101.0   \n",
       "2020-04-15  2870.9243      19730.2363         -0.02       0.16      101.0   \n",
       "2020-04-16  2870.9243      19730.2363         -0.02       0.16      101.0   \n",
       "2020-04-17  2870.9243      19730.2363         -0.02       0.16      101.0   \n",
       "\n",
       "             TY2  \n",
       "2010-04-19  1.01  \n",
       "2010-04-20  1.05  \n",
       "2010-04-21  1.03  \n",
       "2010-04-22  1.07  \n",
       "2010-04-23  1.10  \n",
       "...          ...  \n",
       "2020-04-13  0.25  \n",
       "2020-04-14  0.23  \n",
       "2020-04-15  0.20  \n",
       "2020-04-16  0.20  \n",
       "2020-04-17  0.20  \n",
       "\n",
       "[2646 rows x 28 columns]>"
      ]
     },
     "execution_count": 16,
     "metadata": {},
     "output_type": "execute_result"
    }
   ],
   "source": [
    "df.info"
   ]
  },
  {
   "cell_type": "code",
   "execution_count": 17,
   "metadata": {},
   "outputs": [],
   "source": [
    "X=np.array(df.drop('TY10',axis=1))\n",
    "y=np.array(df['TY10'])"
   ]
  },
  {
   "cell_type": "code",
   "execution_count": 18,
   "metadata": {
    "colab": {},
    "colab_type": "code",
    "id": "V4ufC05aQjt7",
    "scrolled": false
   },
   "outputs": [
    {
     "data": {
      "image/png": "[encoded data removed]",
      "text/plain": [
       "<Figure size 576x396 with 1 Axes>"
      ]
     },
     "metadata": {},
     "output_type": "display_data"
    }
   ],
   "source": [
    "visualizer=CooksDistance()\n",
    "visualizer.fit(X,y)\n",
    "df[\"distancia\"]=visualizer.distance_"
   ]
  },
  {
   "cell_type": "code",
   "execution_count": 19,
   "metadata": {},
   "outputs": [
    {
     "data": {
      "text/plain": [
       "<function matplotlib.pyplot.show(*args, **kw)>"
      ]
     },
     "execution_count": 19,
     "metadata": {},
     "output_type": "execute_result"
    },
    {
     "data": {
      "image/png": "[encoded data removed]",
      "text/plain": [
       "<Figure size 576x396 with 1 Axes>"
      ]
     },
     "metadata": {},
     "output_type": "display_data"
    }
   ],
   "source": [
    "col=df.columns[-23]\n",
    "plt.plot(df[col],df['TY10'],'o',color='gray')\n",
    "plt.plot(df[df['distancia']>0.0015][col],df[df['distancia']>0.0015]['TY10'],'o',color='red')\n",
    "plt.show"
   ]
  },
  {
   "cell_type": "code",
   "execution_count": 20,
   "metadata": {},
   "outputs": [],
   "source": [
    "df_cleaned=df[df[\"distancia\"]<=0.0015]\n",
    "X=np.array(df_cleaned.drop('TY10',axis=1))\n",
    "y=np.array(df_cleaned['TY10'])"
   ]
  },
  {
   "cell_type": "code",
   "execution_count": 21,
   "metadata": {
    "scrolled": true
   },
   "outputs": [
    {
     "data": {
      "text/plain": [
       "<matplotlib.axes._subplots.AxesSubplot at 0x190e67b5940>"
      ]
     },
     "execution_count": 21,
     "metadata": {},
     "output_type": "execute_result"
    },
    {
     "data": {
      "image/png": "[encoded data removed]",
      "text/plain": [
       "<Figure size 576x396 with 2 Axes>"
      ]
     },
     "metadata": {},
     "output_type": "display_data"
    }
   ],
   "source": [
    "sns.heatmap(df_cleaned.corr(), square=True, cmap='RdYlGn')  # Revisamos rapidamente la matriz de correlacion"
   ]
  },
  {
   "cell_type": "code",
   "execution_count": 22,
   "metadata": {},
   "outputs": [
    {
     "data": {
      "text/html": [
       "<div>\n",
       "<style scoped>\n",
       "    .dataframe tbody tr th:only-of-type {\n",
       "        vertical-align: middle;\n",
       "    }\n",
       "\n",
       "    .dataframe tbody tr th {\n",
       "        vertical-align: top;\n",
       "    }\n",
       "\n",
       "    .dataframe thead th {\n",
       "        text-align: right;\n",
       "    }\n",
       "</style>\n",
       "<table border=\"1\" class=\"dataframe\">\n",
       "  <thead>\n",
       "    <tr style=\"text-align: right;\">\n",
       "      <th></th>\n",
       "      <th>TY10</th>\n",
       "      <th>FED</th>\n",
       "      <th>SHEET</th>\n",
       "      <th>BUND10</th>\n",
       "      <th>UNP</th>\n",
       "      <th>SPX</th>\n",
       "      <th>WTI</th>\n",
       "      <th>GDPE</th>\n",
       "      <th>PCEEUU</th>\n",
       "      <th>CPIGER</th>\n",
       "      <th>...</th>\n",
       "      <th>GDPGER</th>\n",
       "      <th>M1</th>\n",
       "      <th>VIX</th>\n",
       "      <th>COMERLOAN</th>\n",
       "      <th>TOTALASSETBANK</th>\n",
       "      <th>CHIFEDCONDIT</th>\n",
       "      <th>CHIFEDACT</th>\n",
       "      <th>CONSUSENT</th>\n",
       "      <th>TY2</th>\n",
       "      <th>distancia</th>\n",
       "    </tr>\n",
       "  </thead>\n",
       "  <tbody>\n",
       "    <tr>\n",
       "      <th>TY10</th>\n",
       "      <td>NaN</td>\n",
       "      <td>0.095947</td>\n",
       "      <td>0.211599</td>\n",
       "      <td>0.513073</td>\n",
       "      <td>0.204732</td>\n",
       "      <td>0.109638</td>\n",
       "      <td>0.317073</td>\n",
       "      <td>0.179588</td>\n",
       "      <td>0.203172</td>\n",
       "      <td>0.222518</td>\n",
       "      <td>...</td>\n",
       "      <td>0.178353</td>\n",
       "      <td>0.243904</td>\n",
       "      <td>0.027621</td>\n",
       "      <td>0.237838</td>\n",
       "      <td>0.229836</td>\n",
       "      <td>0.031812</td>\n",
       "      <td>0.218196</td>\n",
       "      <td>0.144368</td>\n",
       "      <td>0.288873</td>\n",
       "      <td>0.076469</td>\n",
       "    </tr>\n",
       "    <tr>\n",
       "      <th>FED</th>\n",
       "      <td>NaN</td>\n",
       "      <td>NaN</td>\n",
       "      <td>0.326482</td>\n",
       "      <td>0.614884</td>\n",
       "      <td>0.723091</td>\n",
       "      <td>0.828816</td>\n",
       "      <td>0.434074</td>\n",
       "      <td>0.843716</td>\n",
       "      <td>0.829351</td>\n",
       "      <td>0.804381</td>\n",
       "      <td>...</td>\n",
       "      <td>0.836520</td>\n",
       "      <td>0.771322</td>\n",
       "      <td>0.178433</td>\n",
       "      <td>0.775020</td>\n",
       "      <td>0.742677</td>\n",
       "      <td>0.551613</td>\n",
       "      <td>0.027058</td>\n",
       "      <td>0.647006</td>\n",
       "      <td>0.932864</td>\n",
       "      <td>0.071359</td>\n",
       "    </tr>\n",
       "    <tr>\n",
       "      <th>SHEET</th>\n",
       "      <td>NaN</td>\n",
       "      <td>NaN</td>\n",
       "      <td>NaN</td>\n",
       "      <td>0.800783</td>\n",
       "      <td>0.866203</td>\n",
       "      <td>0.742257</td>\n",
       "      <td>0.640664</td>\n",
       "      <td>0.742342</td>\n",
       "      <td>0.754499</td>\n",
       "      <td>0.746956</td>\n",
       "      <td>...</td>\n",
       "      <td>0.754505</td>\n",
       "      <td>0.814087</td>\n",
       "      <td>0.385570</td>\n",
       "      <td>0.806074</td>\n",
       "      <td>0.843529</td>\n",
       "      <td>0.778540</td>\n",
       "      <td>0.106733</td>\n",
       "      <td>0.820135</td>\n",
       "      <td>0.413202</td>\n",
       "      <td>0.105381</td>\n",
       "    </tr>\n",
       "    <tr>\n",
       "      <th>BUND10</th>\n",
       "      <td>NaN</td>\n",
       "      <td>NaN</td>\n",
       "      <td>NaN</td>\n",
       "      <td>NaN</td>\n",
       "      <td>0.928256</td>\n",
       "      <td>0.861425</td>\n",
       "      <td>0.756508</td>\n",
       "      <td>0.901777</td>\n",
       "      <td>0.907321</td>\n",
       "      <td>0.892727</td>\n",
       "      <td>...</td>\n",
       "      <td>0.896723</td>\n",
       "      <td>0.926991</td>\n",
       "      <td>0.313495</td>\n",
       "      <td>0.934522</td>\n",
       "      <td>0.929630</td>\n",
       "      <td>0.684455</td>\n",
       "      <td>0.044519</td>\n",
       "      <td>0.860431</td>\n",
       "      <td>0.561170</td>\n",
       "      <td>0.112435</td>\n",
       "    </tr>\n",
       "    <tr>\n",
       "      <th>UNP</th>\n",
       "      <td>NaN</td>\n",
       "      <td>NaN</td>\n",
       "      <td>NaN</td>\n",
       "      <td>NaN</td>\n",
       "      <td>NaN</td>\n",
       "      <td>0.956718</td>\n",
       "      <td>0.717102</td>\n",
       "      <td>0.968811</td>\n",
       "      <td>0.971164</td>\n",
       "      <td>0.954461</td>\n",
       "      <td>...</td>\n",
       "      <td>0.971644</td>\n",
       "      <td>0.983527</td>\n",
       "      <td>0.393677</td>\n",
       "      <td>0.981868</td>\n",
       "      <td>0.987432</td>\n",
       "      <td>0.829595</td>\n",
       "      <td>0.053886</td>\n",
       "      <td>0.934763</td>\n",
       "      <td>0.735975</td>\n",
       "      <td>0.109396</td>\n",
       "    </tr>\n",
       "    <tr>\n",
       "      <th>SPX</th>\n",
       "      <td>NaN</td>\n",
       "      <td>NaN</td>\n",
       "      <td>NaN</td>\n",
       "      <td>NaN</td>\n",
       "      <td>NaN</td>\n",
       "      <td>NaN</td>\n",
       "      <td>0.613303</td>\n",
       "      <td>0.984086</td>\n",
       "      <td>0.983829</td>\n",
       "      <td>0.970068</td>\n",
       "      <td>...</td>\n",
       "      <td>0.981607</td>\n",
       "      <td>0.972076</td>\n",
       "      <td>0.393290</td>\n",
       "      <td>0.961930</td>\n",
       "      <td>0.968539</td>\n",
       "      <td>0.821158</td>\n",
       "      <td>0.063055</td>\n",
       "      <td>0.894290</td>\n",
       "      <td>0.809253</td>\n",
       "      <td>0.076237</td>\n",
       "    </tr>\n",
       "    <tr>\n",
       "      <th>WTI</th>\n",
       "      <td>NaN</td>\n",
       "      <td>NaN</td>\n",
       "      <td>NaN</td>\n",
       "      <td>NaN</td>\n",
       "      <td>NaN</td>\n",
       "      <td>NaN</td>\n",
       "      <td>NaN</td>\n",
       "      <td>0.686008</td>\n",
       "      <td>0.657174</td>\n",
       "      <td>0.565009</td>\n",
       "      <td>...</td>\n",
       "      <td>0.682341</td>\n",
       "      <td>0.682978</td>\n",
       "      <td>0.050233</td>\n",
       "      <td>0.740887</td>\n",
       "      <td>0.725361</td>\n",
       "      <td>0.374660</td>\n",
       "      <td>0.078688</td>\n",
       "      <td>0.719443</td>\n",
       "      <td>0.479437</td>\n",
       "      <td>0.073280</td>\n",
       "    </tr>\n",
       "    <tr>\n",
       "      <th>GDPE</th>\n",
       "      <td>NaN</td>\n",
       "      <td>NaN</td>\n",
       "      <td>NaN</td>\n",
       "      <td>NaN</td>\n",
       "      <td>NaN</td>\n",
       "      <td>NaN</td>\n",
       "      <td>NaN</td>\n",
       "      <td>NaN</td>\n",
       "      <td>0.996172</td>\n",
       "      <td>0.972798</td>\n",
       "      <td>...</td>\n",
       "      <td>0.996582</td>\n",
       "      <td>0.985450</td>\n",
       "      <td>0.309558</td>\n",
       "      <td>0.986769</td>\n",
       "      <td>0.982717</td>\n",
       "      <td>0.766363</td>\n",
       "      <td>0.034095</td>\n",
       "      <td>0.895720</td>\n",
       "      <td>0.814562</td>\n",
       "      <td>0.095720</td>\n",
       "    </tr>\n",
       "    <tr>\n",
       "      <th>PCEEUU</th>\n",
       "      <td>NaN</td>\n",
       "      <td>NaN</td>\n",
       "      <td>NaN</td>\n",
       "      <td>NaN</td>\n",
       "      <td>NaN</td>\n",
       "      <td>NaN</td>\n",
       "      <td>NaN</td>\n",
       "      <td>NaN</td>\n",
       "      <td>NaN</td>\n",
       "      <td>0.984197</td>\n",
       "      <td>...</td>\n",
       "      <td>0.996098</td>\n",
       "      <td>0.992111</td>\n",
       "      <td>0.324780</td>\n",
       "      <td>0.987218</td>\n",
       "      <td>0.984350</td>\n",
       "      <td>0.784065</td>\n",
       "      <td>0.043373</td>\n",
       "      <td>0.891913</td>\n",
       "      <td>0.792458</td>\n",
       "      <td>0.095128</td>\n",
       "    </tr>\n",
       "    <tr>\n",
       "      <th>CPIGER</th>\n",
       "      <td>NaN</td>\n",
       "      <td>NaN</td>\n",
       "      <td>NaN</td>\n",
       "      <td>NaN</td>\n",
       "      <td>NaN</td>\n",
       "      <td>NaN</td>\n",
       "      <td>NaN</td>\n",
       "      <td>NaN</td>\n",
       "      <td>NaN</td>\n",
       "      <td>NaN</td>\n",
       "      <td>...</td>\n",
       "      <td>0.972514</td>\n",
       "      <td>0.977165</td>\n",
       "      <td>0.367607</td>\n",
       "      <td>0.962223</td>\n",
       "      <td>0.961924</td>\n",
       "      <td>0.814679</td>\n",
       "      <td>0.042457</td>\n",
       "      <td>0.865343</td>\n",
       "      <td>0.747261</td>\n",
       "      <td>0.095209</td>\n",
       "    </tr>\n",
       "  </tbody>\n",
       "</table>\n",
       "<p>10 rows × 29 columns</p>\n",
       "</div>"
      ],
      "text/plain": [
       "        TY10       FED     SHEET    BUND10       UNP       SPX       WTI  \\\n",
       "TY10     NaN  0.095947  0.211599  0.513073  0.204732  0.109638  0.317073   \n",
       "FED      NaN       NaN  0.326482  0.614884  0.723091  0.828816  0.434074   \n",
       "SHEET    NaN       NaN       NaN  0.800783  0.866203  0.742257  0.640664   \n",
       "BUND10   NaN       NaN       NaN       NaN  0.928256  0.861425  0.756508   \n",
       "UNP      NaN       NaN       NaN       NaN       NaN  0.956718  0.717102   \n",
       "SPX      NaN       NaN       NaN       NaN       NaN       NaN  0.613303   \n",
       "WTI      NaN       NaN       NaN       NaN       NaN       NaN       NaN   \n",
       "GDPE     NaN       NaN       NaN       NaN       NaN       NaN       NaN   \n",
       "PCEEUU   NaN       NaN       NaN       NaN       NaN       NaN       NaN   \n",
       "CPIGER   NaN       NaN       NaN       NaN       NaN       NaN       NaN   \n",
       "\n",
       "            GDPE    PCEEUU    CPIGER  ...    GDPGER        M1       VIX  \\\n",
       "TY10    0.179588  0.203172  0.222518  ...  0.178353  0.243904  0.027621   \n",
       "FED     0.843716  0.829351  0.804381  ...  0.836520  0.771322  0.178433   \n",
       "SHEET   0.742342  0.754499  0.746956  ...  0.754505  0.814087  0.385570   \n",
       "BUND10  0.901777  0.907321  0.892727  ...  0.896723  0.926991  0.313495   \n",
       "UNP     0.968811  0.971164  0.954461  ...  0.971644  0.983527  0.393677   \n",
       "SPX     0.984086  0.983829  0.970068  ...  0.981607  0.972076  0.393290   \n",
       "WTI     0.686008  0.657174  0.565009  ...  0.682341  0.682978  0.050233   \n",
       "GDPE         NaN  0.996172  0.972798  ...  0.996582  0.985450  0.309558   \n",
       "PCEEUU       NaN       NaN  0.984197  ...  0.996098  0.992111  0.324780   \n",
       "CPIGER       NaN       NaN       NaN  ...  0.972514  0.977165  0.367607   \n",
       "\n",
       "        COMERLOAN  TOTALASSETBANK  CHIFEDCONDIT  CHIFEDACT  CONSUSENT  \\\n",
       "TY10     0.237838        0.229836      0.031812   0.218196   0.144368   \n",
       "FED      0.775020        0.742677      0.551613   0.027058   0.647006   \n",
       "SHEET    0.806074        0.843529      0.778540   0.106733   0.820135   \n",
       "BUND10   0.934522        0.929630      0.684455   0.044519   0.860431   \n",
       "UNP      0.981868        0.987432      0.829595   0.053886   0.934763   \n",
       "SPX      0.961930        0.968539      0.821158   0.063055   0.894290   \n",
       "WTI      0.740887        0.725361      0.374660   0.078688   0.719443   \n",
       "GDPE     0.986769        0.982717      0.766363   0.034095   0.895720   \n",
       "PCEEUU   0.987218        0.984350      0.784065   0.043373   0.891913   \n",
       "CPIGER   0.962223        0.961924      0.814679   0.042457   0.865343   \n",
       "\n",
       "             TY2  distancia  \n",
       "TY10    0.288873   0.076469  \n",
       "FED     0.932864   0.071359  \n",
       "SHEET   0.413202   0.105381  \n",
       "BUND10  0.561170   0.112435  \n",
       "UNP     0.735975   0.109396  \n",
       "SPX     0.809253   0.076237  \n",
       "WTI     0.479437   0.073280  \n",
       "GDPE    0.814562   0.095720  \n",
       "PCEEUU  0.792458   0.095128  \n",
       "CPIGER  0.747261   0.095209  \n",
       "\n",
       "[10 rows x 29 columns]"
      ]
     },
     "execution_count": 22,
     "metadata": {},
     "output_type": "execute_result"
    }
   ],
   "source": [
    "# Matriz de correlación en valor absoluto\n",
    "Correlaciones = df_cleaned.corr().abs()\n",
    "Correlaciones = Correlaciones.where(np.triu(np.ones(Correlaciones.shape), k=1).astype(np.bool))\n",
    "Correlaciones.head(10)"
   ]
  },
  {
   "cell_type": "code",
   "execution_count": 23,
   "metadata": {
    "scrolled": true
   },
   "outputs": [
    {
     "name": "stdout",
     "output_type": "stream",
     "text": [
      "Se eliminaran las siguientes columnas pues su coeficiente de correlación es mayor al 95%\n"
     ]
    },
    {
     "data": {
      "text/plain": [
       "['SPX',\n",
       " 'GDPE',\n",
       " 'PCEEUU',\n",
       " 'CPIGER',\n",
       " 'RETAIL',\n",
       " 'INVENT',\n",
       " 'INDPP',\n",
       " 'NONFARM',\n",
       " 'TBILL3',\n",
       " 'M2',\n",
       " 'GDPGER',\n",
       " 'M1',\n",
       " 'COMERLOAN',\n",
       " 'TOTALASSETBANK',\n",
       " 'TY2']"
      ]
     },
     "execution_count": 23,
     "metadata": {},
     "output_type": "execute_result"
    }
   ],
   "source": [
    "columnas_iguales = [column for column in Correlaciones.columns if any(Correlaciones[column] > 0.95)]\n",
    "print('Se eliminaran las siguientes columnas pues su coeficiente de correlación es mayor al 95%')\n",
    "columnas_iguales"
   ]
  },
  {
   "cell_type": "code",
   "execution_count": 24,
   "metadata": {},
   "outputs": [],
   "source": [
    "df_cleaned = df_cleaned.drop(columns = columnas_iguales)\n",
    "df_cleaned=df_cleaned.drop('distancia',axis=1)"
   ]
  },
  {
   "cell_type": "code",
   "execution_count": 25,
   "metadata": {},
   "outputs": [],
   "source": [
    "X_cleaned=np.array(df_cleaned.drop('TY10',axis=1))\n",
    "y_cleaned=np.array(df_cleaned['TY10'])"
   ]
  },
  {
   "cell_type": "code",
   "execution_count": 26,
   "metadata": {
    "colab": {},
    "colab_type": "code",
    "id": "vdYyFsLUSKoF"
   },
   "outputs": [],
   "source": [
    "X_train, X_test, y_train, y_test = train_test_split(X, y, test_size=0.33, random_state=42)\n",
    "X_trainc, X_testc, y_trainc, y_testc = train_test_split(X_cleaned, y_cleaned, test_size=0.33, random_state=42)"
   ]
  },
  {
   "cell_type": "markdown",
   "metadata": {},
   "source": [
    "### Métodos sin ingenieria de caracteristicas"
   ]
  },
  {
   "cell_type": "code",
   "execution_count": 27,
   "metadata": {
    "colab": {
     "base_uri": "https://localhost:8080/",
     "height": 254
    },
    "colab_type": "code",
    "id": "4F0seXC5Q8BG",
    "outputId": "e48d5935-d780-4a2f-e9d9-0bf609d77b2e"
   },
   "outputs": [
    {
     "data": {
      "text/plain": [
       "Index(['SHEET', 'BUND10', 'MANUF', 'INVENT', 'M1', 'VIX', 'TOTALASSETBANK'], dtype='object')"
      ]
     },
     "execution_count": 27,
     "metadata": {},
     "output_type": "execute_result"
    }
   ],
   "source": [
    "seleccionadas=SelectKBest(f_classif,k=7).fit(X,y)\n",
    "atributos=seleccionadas.get_support()\n",
    "df.drop('TY10',axis=1).columns[atributos]"
   ]
  },
  {
   "cell_type": "code",
   "execution_count": 28,
   "metadata": {},
   "outputs": [
    {
     "data": {
      "text/plain": [
       "['SHEET', 'BUND10', 'MANUF', 'INVENT', 'M1', 'VIX', 'TOTALASSETBANK']"
      ]
     },
     "execution_count": 28,
     "metadata": {},
     "output_type": "execute_result"
    }
   ],
   "source": [
    "list(df.drop('TY10',axis=1).columns[atributos])"
   ]
  },
  {
   "cell_type": "code",
   "execution_count": 29,
   "metadata": {
    "colab": {
     "base_uri": "https://localhost:8080/",
     "height": 122
    },
    "colab_type": "code",
    "id": "7YTGyQkhQypr",
    "outputId": "09d54a50-246f-4cda-d9d9-dd3af5794659",
    "scrolled": false
   },
   "outputs": [
    {
     "data": {
      "text/plain": [
       "array([0.02412267, 0.01802042, 0.49894374, 0.00465247, 0.00570537,\n",
       "       0.00396005, 0.00340107, 0.00144299, 0.01749052, 0.01801021,\n",
       "       0.00389461, 0.00383295, 0.00216543, 0.00155034, 0.00536556,\n",
       "       0.00125628, 0.00342993, 0.0114906 , 0.00224184, 0.00209682,\n",
       "       0.00823508, 0.00980976, 0.00794343, 0.00712387, 0.00221741,\n",
       "       0.00295987, 0.32480849, 0.00382821])"
      ]
     },
     "execution_count": 29,
     "metadata": {},
     "output_type": "execute_result"
    }
   ],
   "source": [
    "rf=RandomForestRegressor()\n",
    "rf.fit(X_train,y_train)\n",
    "rf.feature_importances_"
   ]
  },
  {
   "cell_type": "code",
   "execution_count": 30,
   "metadata": {},
   "outputs": [
    {
     "data": {
      "text/plain": [
       "['BUND10', 'TY2', 'FED', 'SHEET', 'RETAIL', 'CPIGER', 'M2']"
      ]
     },
     "execution_count": 30,
     "metadata": {},
     "output_type": "execute_result"
    }
   ],
   "source": [
    "important=pd.DataFrame()\n",
    "important[\"variable\"]=list(df.drop('TY10',axis=1).columns)\n",
    "important[\"Importancia\"]=list(rf.feature_importances_)\n",
    "Cols=list(important.nlargest(7,\"Importancia\")['variable'])\n",
    "Cols"
   ]
  },
  {
   "cell_type": "markdown",
   "metadata": {},
   "source": [
    "### Métodos con ingenieria de caracteristicas"
   ]
  },
  {
   "cell_type": "code",
   "execution_count": 31,
   "metadata": {},
   "outputs": [
    {
     "data": {
      "text/plain": [
       "Index(['SHEET', 'BUND10', 'UNP', 'WTI', 'MANUF', 'VIX', 'CHIFEDCONDIT'], dtype='object')"
      ]
     },
     "execution_count": 31,
     "metadata": {},
     "output_type": "execute_result"
    }
   ],
   "source": [
    "seleccionadas=SelectKBest(f_classif,k=7).fit(X_cleaned,y_cleaned)\n",
    "atributos2=seleccionadas.get_support()\n",
    "df_cleaned.drop('TY10',axis=1).columns[atributos2]"
   ]
  },
  {
   "cell_type": "code",
   "execution_count": 49,
   "metadata": {
    "scrolled": true
   },
   "outputs": [
    {
     "data": {
      "text/plain": [
       "array([0.01719174, 0.11619746, 0.58847048, 0.00839893, 0.0096087 ,\n",
       "       0.02026445, 0.02924555, 0.01224601, 0.01341794, 0.16918467,\n",
       "       0.00618688, 0.0095872 ])"
      ]
     },
     "execution_count": 49,
     "metadata": {},
     "output_type": "execute_result"
    }
   ],
   "source": [
    "rf=RandomForestRegressor()\n",
    "rf.fit(X_trainc,y_trainc)\n",
    "rf.feature_importances_"
   ]
  },
  {
   "cell_type": "code",
   "execution_count": 50,
   "metadata": {},
   "outputs": [
    {
     "data": {
      "text/plain": [
       "['BUND10', 'CHIFEDCONDIT', 'SHEET', 'MANUF', 'GOODS', 'FED', 'VIX']"
      ]
     },
     "execution_count": 50,
     "metadata": {},
     "output_type": "execute_result"
    }
   ],
   "source": [
    "important=pd.DataFrame()\n",
    "important[\"variable\"]=list(df_cleaned.drop('TY10',axis=1).columns)\n",
    "important[\"Importancia\"]=list(rf.feature_importances_)\n",
    "Cols2=list(important.nlargest(7,\"Importancia\")['variable'])\n",
    "Cols2"
   ]
  },
  {
   "cell_type": "markdown",
   "metadata": {},
   "source": [
    "### Se hará regresión con todas las columnas iniciales y luego con las variables seleccionadas despues del feature engineer"
   ]
  },
  {
   "cell_type": "code",
   "execution_count": 51,
   "metadata": {},
   "outputs": [],
   "source": [
    "from sklearn.linear_model import LinearRegression\n",
    "from sklearn.metrics import mean_squared_error"
   ]
  },
  {
   "cell_type": "code",
   "execution_count": 52,
   "metadata": {},
   "outputs": [
    {
     "data": {
      "text/plain": [
       "(array([[ 2.339345e+06,  3.060000e+00,  9.900000e+00, ...,  9.330990e+01,\n",
       "          1.734000e+01, -2.700000e-01],\n",
       "        [ 2.339345e+06,  3.060000e+00,  9.900000e+00, ...,  9.330990e+01,\n",
       "          1.573000e+01, -2.700000e-01],\n",
       "        [ 2.337556e+06,  3.060000e+00,  9.900000e+00, ...,  9.330990e+01,\n",
       "          1.632000e+01, -2.700000e-01],\n",
       "        ...,\n",
       "        [ 6.083141e+06, -5.400000e-01,  4.400000e+00, ...,  9.945660e+01,\n",
       "          4.167000e+01, -2.000000e-02],\n",
       "        [ 6.083141e+06, -5.400000e-01,  4.400000e+00, ...,  9.945660e+01,\n",
       "          4.117000e+01, -2.000000e-02],\n",
       "        [ 6.083141e+06, -5.400000e-01,  4.400000e+00, ...,  9.945660e+01,\n",
       "          3.776000e+01, -2.000000e-02]]),\n",
       " array([3.83, 3.82, 3.77, ..., 0.73, 0.76, 0.76]))"
      ]
     },
     "execution_count": 52,
     "metadata": {},
     "output_type": "execute_result"
    }
   ],
   "source": [
    "np.array(df_cleaned[list(df_cleaned.drop('TY10',axis=1).columns[atributos2])]),np.array(df_cleaned['TY10'])"
   ]
  },
  {
   "cell_type": "code",
   "execution_count": 53,
   "metadata": {
    "scrolled": false
   },
   "outputs": [
    {
     "data": {
      "text/plain": [
       "LinearRegression(copy_X=True, fit_intercept=True, n_jobs=None, normalize=False)"
      ]
     },
     "execution_count": 53,
     "metadata": {},
     "output_type": "execute_result"
    }
   ],
   "source": [
    "lr=LinearRegression()\n",
    "lr2=LinearRegression()\n",
    "lr3=LinearRegression()\n",
    "lr4=LinearRegression()\n",
    "\n",
    "lr.fit(np.array(df[list(df.drop('TY10',axis=1).columns[atributos])]),df['TY10'])\n",
    "lr2.fit(np.array(df[Cols]),df['TY10'])\n",
    "lr3.fit(np.array(df_cleaned[list(df_cleaned.drop('TY10',axis=1).columns[atributos2])]),np.array(df_cleaned['TY10']))\n",
    "lr4.fit(np.array(df_cleaned[Cols2]),df_cleaned['TY10'])"
   ]
  },
  {
   "cell_type": "code",
   "execution_count": 54,
   "metadata": {},
   "outputs": [
    {
     "data": {
      "text/plain": [
       "0.06330565872271292"
      ]
     },
     "execution_count": 54,
     "metadata": {},
     "output_type": "execute_result"
    }
   ],
   "source": [
    "mean_squared_error(df['TY10'],lr.predict(np.array(df[list(df.drop('TY10',axis=1).columns[atributos])])))"
   ]
  },
  {
   "cell_type": "code",
   "execution_count": 55,
   "metadata": {},
   "outputs": [
    {
     "data": {
      "text/plain": [
       "0.7845408115709664"
      ]
     },
     "execution_count": 55,
     "metadata": {},
     "output_type": "execute_result"
    }
   ],
   "source": [
    "r2_score(df['TY10'],lr.predict(np.array(df[list(df.drop('TY10',axis=1).columns[atributos])])))"
   ]
  },
  {
   "cell_type": "code",
   "execution_count": 56,
   "metadata": {
    "scrolled": true
   },
   "outputs": [
    {
     "data": {
      "text/plain": [
       "0.02957071078433665"
      ]
     },
     "execution_count": 56,
     "metadata": {},
     "output_type": "execute_result"
    }
   ],
   "source": [
    "mean_squared_error(df['TY10'],lr2.predict(np.array(df[Cols])))"
   ]
  },
  {
   "cell_type": "code",
   "execution_count": 57,
   "metadata": {
    "scrolled": true
   },
   "outputs": [
    {
     "data": {
      "text/plain": [
       "0.8993568430466873"
      ]
     },
     "execution_count": 57,
     "metadata": {},
     "output_type": "execute_result"
    }
   ],
   "source": [
    "r2_score(df['TY10'],lr2.predict(np.array(df[Cols])))"
   ]
  },
  {
   "cell_type": "code",
   "execution_count": 58,
   "metadata": {},
   "outputs": [
    {
     "data": {
      "text/plain": [
       "0.05065500361082696"
      ]
     },
     "execution_count": 58,
     "metadata": {},
     "output_type": "execute_result"
    }
   ],
   "source": [
    "mean_squared_error(df_cleaned['TY10'],lr3.predict(np.array(df_cleaned[list(df_cleaned.drop('TY10',axis=1).columns[atributos2])])))"
   ]
  },
  {
   "cell_type": "code",
   "execution_count": 59,
   "metadata": {},
   "outputs": [
    {
     "data": {
      "text/plain": [
       "0.8151373601586183"
      ]
     },
     "execution_count": 59,
     "metadata": {},
     "output_type": "execute_result"
    }
   ],
   "source": [
    "r2_score(df_cleaned['TY10'],lr3.predict(np.array(df_cleaned[list(df_cleaned.drop('TY10',axis=1).columns[atributos2])])))"
   ]
  },
  {
   "cell_type": "code",
   "execution_count": 60,
   "metadata": {
    "scrolled": true
   },
   "outputs": [
    {
     "data": {
      "text/plain": [
       "0.03521964011976098"
      ]
     },
     "execution_count": 60,
     "metadata": {},
     "output_type": "execute_result"
    }
   ],
   "source": [
    "mean_squared_error(df_cleaned['TY10'],lr4.predict(np.array(df_cleaned[Cols2])))"
   ]
  },
  {
   "cell_type": "code",
   "execution_count": 61,
   "metadata": {},
   "outputs": [
    {
     "data": {
      "text/plain": [
       "0.8714678672846676"
      ]
     },
     "execution_count": 61,
     "metadata": {},
     "output_type": "execute_result"
    }
   ],
   "source": [
    "r2_score(df_cleaned['TY10'],lr4.predict(np.array(df_cleaned[Cols2])))"
   ]
  },
  {
   "cell_type": "markdown",
   "metadata": {},
   "source": [
    "#### Se reduce el número de variables y el error aumenta muy poco. Es mucho más eficiente que tener todas las variables"
   ]
  }
 ],
 "metadata": {
  "colab": {
   "collapsed_sections": [],
   "name": "Momentum.ipynb",
   "provenance": [],
   "toc_visible": true
  },
  "kernelspec": {
   "display_name": "Python 3",
   "language": "python",
   "name": "python3"
  },
  "language_info": {
   "codemirror_mode": {
    "name": "ipython",
    "version": 3
   },
   "file_extension": ".py",
   "mimetype": "text/x-python",
   "name": "python",
   "nbconvert_exporter": "python",
   "pygments_lexer": "ipython3",
   "version": "3.8.1"
  }
 },
 "nbformat": 4,
 "nbformat_minor": 1
}
