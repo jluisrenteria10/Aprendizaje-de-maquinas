{
  "nbformat": 4,
  "nbformat_minor": 0,
  "metadata": {
    "colab": {
      "name": "Copia de Redes_V1.ipynb",
      "provenance": [],
      "collapsed_sections": []
    },
    "kernelspec": {
      "name": "python3",
      "display_name": "Python 3"
    }
  },
  "cells": [
    {
      "cell_type": "code",
      "metadata": {
        "id": "m6LPfOXv1YP6",
        "colab_type": "code",
        "colab": {}
      },
      "source": [
        "from PIL import Image\n",
        "import pandas as pd\n",
        "import glob\n",
        "import re\n",
        "import numpy as np\n",
        "import imutils\n",
        "import time\n",
        "from google.colab import drive\n",
        "from google.colab import files\n",
        "import matplotlib.pyplot as plt\n",
        "from sklearn.ensemble import RandomForestClassifier\n",
        "from sklearn.ensemble import GradientBoostingClassifier\n",
        "from sklearn.linear_model import LogisticRegression\n",
        "from sklearn.neighbors import KNeighborsClassifier\n",
        "from sklearn.tree import DecisionTreeClassifier\n",
        "from sklearn.model_selection import GridSearchCV\n",
        "from sklearn.svm import SVC\n",
        "from keras.preprocessing import image\n",
        "import cv2 as cv\n",
        "import matplotlib.pyplot as plt\n",
        "from pathlib import Path\n",
        "from sklearn.model_selection import GridSearchCV, train_test_split\n",
        "from skimage.io import imread\n",
        "import pandas as pd\n",
        "import warnings\n",
        "warnings.filterwarnings('ignore')\n",
        "pd.set_option('display.max_columns', 30*30 + 1)"
      ],
      "execution_count": 0,
      "outputs": []
    },
    {
      "cell_type": "code",
      "metadata": {
        "id": "eMoW5Sy37ijf",
        "colab_type": "code",
        "outputId": "aa6a7d03-40b3-4526-c2a3-64e8827ff3f0",
        "colab": {
          "base_uri": "https://localhost:8080/",
          "height": 125
        }
      },
      "source": [
        "drive.mount('/content/drive')"
      ],
      "execution_count": 7,
      "outputs": [
        {
          "output_type": "stream",
          "text": [
            "Go to this URL in a browser: https://accounts.google.com/o/oauth2/auth?client_id=947318989803-6bn6qk8qdgf4n4g3pfee6491hc0brc4i.apps.googleusercontent.com&redirect_uri=urn%3aietf%3awg%3aoauth%3a2.0%3aoob&response_type=code&scope=email%20https%3a%2f%2fwww.googleapis.com%2fauth%2fdocs.test%20https%3a%2f%2fwww.googleapis.com%2fauth%2fdrive%20https%3a%2f%2fwww.googleapis.com%2fauth%2fdrive.photos.readonly%20https%3a%2f%2fwww.googleapis.com%2fauth%2fpeopleapi.readonly\n",
            "\n",
            "Enter your authorization code:\n",
            "··········\n",
            "Mounted at /content/drive\n"
          ],
          "name": "stdout"
        }
      ]
    },
    {
      "cell_type": "code",
      "metadata": {
        "id": "iSMmtWrIHd3-",
        "colab_type": "code",
        "colab": {}
      },
      "source": [
        "import tensorflow as tf\n",
        "import keras_preprocessing\n",
        "from keras_preprocessing import image\n",
        "from keras_preprocessing.image import ImageDataGenerator"
      ],
      "execution_count": 0,
      "outputs": []
    },
    {
      "cell_type": "code",
      "metadata": {
        "id": "y80IWL2mIaYn",
        "colab_type": "code",
        "outputId": "9c6dafe6-99fc-4894-fc2f-918c453b7b97",
        "colab": {
          "base_uri": "https://localhost:8080/",
          "height": 51
        }
      },
      "source": [
        "dir_train = '/content/drive/My Drive/Estadistica Multivariada/Proyecto Final/Dataset/datalake/Train/'\n",
        "datagen_train = ImageDataGenerator(rescale=1./255)\n",
        "\n",
        "dir_val = '/content/drive/My Drive/Estadistica Multivariada/Proyecto Final/Dataset/datalake/Validation/'\n",
        "datagen_val = ImageDataGenerator(rescale=1./255)\n",
        "\n",
        "gen_train = datagen_train.flow_from_directory(\n",
        "    dir_train, target_size=(150, 150), class_mode='sparse'\n",
        ")\n",
        "gen_val = datagen_val.flow_from_directory(\n",
        "    dir_val, target_size=(150, 150), class_mode='sparse'\n",
        ")"
      ],
      "execution_count": 0,
      "outputs": [
        {
          "output_type": "stream",
          "text": [
            "Found 30 images belonging to 2 classes.\n",
            "Found 8 images belonging to 2 classes.\n"
          ],
          "name": "stdout"
        }
      ]
    },
    {
      "cell_type": "code",
      "metadata": {
        "id": "8aJl5biLNuBX",
        "colab_type": "code",
        "outputId": "b426d245-c09f-4678-aed4-99917a0c1551",
        "colab": {
          "base_uri": "https://localhost:8080/",
          "height": 326
        }
      },
      "source": [
        "modelo1 = tf.keras.models.Sequential([\n",
        "    # El tamaño esperado es 150x150 con 3 bytes de color\n",
        "    tf.keras.layers.Flatten(input_shape=(150, 150, 3)),\n",
        "    # 512 neuronas en la capa interna\n",
        "    tf.keras.layers.Dense(512, activation='relu'),\n",
        "    # Probabilidad de pertenencia a cada una de las 3 clases\n",
        "    tf.keras.layers.Dense(2, activation='softmax')\n",
        "])\n",
        "\n",
        "modelo1.summary()\n",
        "\n",
        "modelo1.compile(loss='sparse_categorical_crossentropy', optimizer='adam', metrics=['accuracy'])"
      ],
      "execution_count": 0,
      "outputs": [
        {
          "output_type": "stream",
          "text": [
            "WARNING:tensorflow:From /usr/local/lib/python3.6/dist-packages/tensorflow_core/python/ops/resource_variable_ops.py:1630: calling BaseResourceVariable.__init__ (from tensorflow.python.ops.resource_variable_ops) with constraint is deprecated and will be removed in a future version.\n",
            "Instructions for updating:\n",
            "If using Keras pass *_constraint arguments to layers.\n",
            "Model: \"sequential\"\n",
            "_________________________________________________________________\n",
            "Layer (type)                 Output Shape              Param #   \n",
            "=================================================================\n",
            "flatten (Flatten)            (None, 67500)             0         \n",
            "_________________________________________________________________\n",
            "dense (Dense)                (None, 512)               34560512  \n",
            "_________________________________________________________________\n",
            "dense_1 (Dense)              (None, 2)                 1026      \n",
            "=================================================================\n",
            "Total params: 34,561,538\n",
            "Trainable params: 34,561,538\n",
            "Non-trainable params: 0\n",
            "_________________________________________________________________\n"
          ],
          "name": "stdout"
        }
      ]
    },
    {
      "cell_type": "code",
      "metadata": {
        "id": "MEn2v213N0bl",
        "colab_type": "code",
        "outputId": "95d662b7-e72e-419a-a0eb-308413a1a08b",
        "colab": {
          "base_uri": "https://localhost:8080/",
          "height": 34
        }
      },
      "source": [
        "# Entrenamiento\n",
        "historia1 = modelo1.fit_generator(gen_train, epochs=1, validation_data=gen_val,\n",
        "                                  steps_per_epoch=80, verbose=1)\n",
        "# Guardo el modelo\n",
        "modelo1.save(\"modelo1.h5\")"
      ],
      "execution_count": 0,
      "outputs": [
        {
          "output_type": "stream",
          "text": [
            "80/80 [==============================] - 66s 831ms/step - loss: 7.1902 - acc: 0.4908 - val_loss: 0.6879 - val_acc: 0.8750\n"
          ],
          "name": "stdout"
        }
      ]
    },
    {
      "cell_type": "code",
      "metadata": {
        "id": "pAgY1LEbXGZ_",
        "colab_type": "code",
        "outputId": "88142308-a05c-4b03-cd45-eb00eef0dba2",
        "colab": {
          "base_uri": "https://localhost:8080/",
          "height": 281
        }
      },
      "source": [
        "import matplotlib.pyplot as plt\n",
        "\n",
        "def plot_history(history):\n",
        "  acc = history.history['acc']\n",
        "  val_acc = history.history['val_acc']\n",
        "  loss = history.history['loss']\n",
        "  val_loss = history.history['val_loss']\n",
        "\n",
        "  epocas = range(len(acc))\n",
        "\n",
        "  plt.plot(epocas, acc, 'r', label='Entrenamiento')\n",
        "  plt.plot(epocas, val_acc, 'b', label='Validación')\n",
        "  plt.title('Precisión en cada época')\n",
        "  plt.legend(loc=0)\n",
        "  \n",
        "plot_history(historia1)"
      ],
      "execution_count": 0,
      "outputs": [
        {
          "output_type": "display_data",
          "data": {
            "image/png": "[encoded data removed]",
            "text/plain": [
              "<Figure size 432x288 with 1 Axes>"
            ]
          },
          "metadata": {
            "tags": []
          }
        }
      ]
    },
    {
      "cell_type": "markdown",
      "metadata": {
        "id": "HrPaqn8dcEW7",
        "colab_type": "text"
      },
      "source": [
        "**Data Augmentation** *texto en cursiva*"
      ]
    },
    {
      "cell_type": "code",
      "metadata": {
        "id": "mDdy81A7ejbm",
        "colab_type": "code",
        "colab": {}
      },
      "source": [
        "# Repo de Imagenes\n",
        "path= '/content/drive/My Drive/Machine Learning/DataAUG/DataAUG'"
      ],
      "execution_count": 0,
      "outputs": []
    },
    {
      "cell_type": "code",
      "metadata": {
        "id": "89yGoT1Af7SS",
        "colab_type": "code",
        "colab": {
          "base_uri": "https://localhost:8080/",
          "height": 81
        },
        "outputId": "229d9403-8b88-407f-b981-2583bb568439"
      },
      "source": [
        "from numpy import expand_dims\n",
        "from keras.preprocessing.image import load_img\n",
        "from keras.preprocessing.image import img_to_array\n",
        "from keras.preprocessing.image import ImageDataGenerator\n",
        "from matplotlib import pyplot"
      ],
      "execution_count": 3,
      "outputs": [
        {
          "output_type": "stream",
          "text": [
            "Using TensorFlow backend.\n"
          ],
          "name": "stderr"
        },
        {
          "output_type": "display_data",
          "data": {
            "text/html": [
              "<p style=\"color: red;\">\n",
              "The default version of TensorFlow in Colab will soon switch to TensorFlow 2.x.<br>\n",
              "We recommend you <a href=\"https://www.tensorflow.org/guide/migrate\" target=\"_blank\">upgrade</a> now \n",
              "or ensure your notebook will continue to use TensorFlow 1.x via the <code>%tensorflow_version 1.x</code> magic:\n",
              "<a href=\"https://colab.research.google.com/notebooks/tensorflow_version.ipynb\" target=\"_blank\">more info</a>.</p>\n"
            ],
            "text/plain": [
              "<IPython.core.display.HTML object>"
            ]
          },
          "metadata": {
            "tags": []
          }
        }
      ]
    },
    {
      "cell_type": "code",
      "metadata": {
        "colab_type": "code",
        "id": "1CbjD7l0Ocfi",
        "colab": {}
      },
      "source": [
        "imagenes=[]\n",
        "m=0\n",
        "for filename in glob.glob(path+'/*'): \n",
        "  m=m+1\n",
        "  filename[57:58]\n",
        "  # load the image\n",
        "  img = load_img(filename)\n",
        "  # convert to numpy array\n",
        "  data = img_to_array(img)\n",
        "  # expand dimension to one sample\n",
        "  samples = expand_dims(data, 0)\n",
        "  # create image data augmentation generator\n",
        "  datagen = ImageDataGenerator(width_shift_range=[-200,200])\n",
        "  # prepare iterator\n",
        "  it = datagen.flow(samples, batch_size=1)\n",
        "  # generate samples and plot\n",
        "  k=0\n",
        "  for i in range(9):\n",
        "    \n",
        "    # define subplot\n",
        "    # pyplot.subplot(330 + 1 + i)\n",
        "    # generate batch of images\n",
        "    batch = it.next()\n",
        "    # convert to unsigned integers for viewing\n",
        "    image = batch[0].astype('uint8')\n",
        "    # plot raw pixel data\n",
        "    k=k+1\n",
        "    pyplot.imshow(image)\n",
        "    # pyplot.savefig('/content/drive/My Drive/Machine Learning/Data/Todo/'+str(filename[57:58])+'_'+str(m)+'_'+str(k)+'.jpg')\n",
        "    pyplot.show()\n",
        "  datagen = ImageDataGenerator(height_shift_range=0.5)\n",
        "  # prepare iterator\n",
        "  it = datagen.flow(samples, batch_size=1)\n",
        "  # generate samples and plot\n",
        "  for i in range(9):\n",
        "    # define subplot\n",
        "    # pyplot.subplot(330 + 1 + i)\n",
        "    # generate batch of images\n",
        "    batch = it.next()\n",
        "    # convert to unsigned integers for viewing\n",
        "    image = batch[0].astype('uint8')\n",
        "    # plot raw pixel data\n",
        "    k=k+1\n",
        "    pyplot.imshow(image)\n",
        "    # pyplot.savefig('/content/drive/My Drive/Machine Learning/Data/Todo/'+str(filename[57:58])+'_'+str(m)+'_'+str(k)+'.jpg')\n",
        "    pyplot.show()\n",
        "  # show the figure\n",
        "  datagen = ImageDataGenerator(horizontal_flip=True)\n",
        "  # prepare iterator\n",
        "  it = datagen.flow(samples, batch_size=1)\n",
        "  # generate samples and plot\n",
        "  for i in range(9):\n",
        "    # define subplot\n",
        "    # pyplot.subplot(330 + 1 + i)\n",
        "    # generate batch of images\n",
        "    batch = it.next()\n",
        "    # convert to unsigned integers for viewing\n",
        "    image = batch[0].astype('uint8')\n",
        "    k=k+1\n",
        "    # plot raw pixel data\n",
        "    pyplot.imshow(image)\n",
        "    # pyplot.savefig('/content/drive/My Drive/Machine Learning/Data/Todo/'+str(filename[57:58])+'_'+str(m)+'_'+str(k)+'.jpg')\n",
        "    pyplot.show()\n",
        "  datagen = ImageDataGenerator(rotation_range=90)\n",
        "  # prepare iterator\n",
        "  it = datagen.flow(samples, batch_size=1)\n",
        "  # generate samples and plot\n",
        "  for i in range(9):\n",
        "    # define subplot\n",
        "    # pyplot.subplot(330 + 1 + i)\n",
        "    # generate batch of images\n",
        "    batch = it.next()\n",
        "    # convert to unsigned integers for viewing\n",
        "    image = batch[0].astype('uint8')\n",
        "    k=k+1\n",
        "    # plot raw pixel data\n",
        "    pyplot.imshow(image)\n",
        "    # pyplot.savefig('/content/drive/My Drive/Machine Learning/Data/Todo/'+str(filename[57:58])+'_'+str(m)+'_'+str(k)+'.jpg')\n",
        "    pyplot.show()\n",
        "\n",
        "  datagen = ImageDataGenerator(brightness_range=[0.2,1.0])\n",
        "  # prepare iterator\n",
        "  it = datagen.flow(samples, batch_size=1)\n",
        "  # generate samples and plot\n",
        "  for i in range(9):\n",
        "    # define subplot\n",
        "    # pyplot.subplot(330 + 1 + i)\n",
        "    # generate batch of images\n",
        "    batch = it.next()\n",
        "    # convert to unsigned integers for viewing\n",
        "    image = batch[0].astype('uint8')\n",
        "    k=k+1\n",
        "    # plot raw pixel data\n",
        "    pyplot.imshow(image)\n",
        "    # pyplot.savefig('/content/drive/My Drive/Machine Learning/Data/Todo/'+str(filename[57:58])+'_'+str(m)+'_'+str(k)+'.jpg')\n",
        "    pyplot.show()\n",
        "\n",
        "  datagen = ImageDataGenerator(zoom_range=[0.5,1.0])\n",
        "  # prepare iterator\n",
        "  it = datagen.flow(samples, batch_size=1)\n",
        "  # generate samples and plot\n",
        "  for i in range(9):\n",
        "    # define subplot\n",
        "    # pyplot.subplot(330 + 1 + i)\n",
        "    # generate batch of images\n",
        "    batch = it.next()\n",
        "    # convert to unsigned integers for viewing\n",
        "    image = batch[0].astype('uint8')\n",
        "    k=k+1\n",
        "    # plot raw pixel data\n",
        "    pyplot.imshow(image)\n",
        "    # pyplot.savefig('/content/drive/My Drive/Machine Learning/Data/Todo/'+str(filename[57:58])+'_'+str(m)+'_'+str(k)+'.jpg')\n",
        "    pyplot.show()"
      ],
      "execution_count": 0,
      "outputs": []
    },
    {
      "cell_type": "code",
      "metadata": {
        "id": "hACYHFZtOi58",
        "colab_type": "code",
        "colab": {
          "base_uri": "https://localhost:8080/",
          "height": 52
        },
        "outputId": "c93a8576-2d0f-40ed-80c2-52b72d0b3431"
      },
      "source": [
        "dir_train = '/content/drive/My Drive/Machine Learning/Data/Train/'\n",
        "datagen_train = ImageDataGenerator(rescale=1./255)\n",
        "\n",
        "dir_val = '/content/drive/My Drive/Machine Learning/Data/Validation/'\n",
        "datagen_val = ImageDataGenerator(rescale=1./255)\n",
        "\n",
        "gen_train = datagen_train.flow_from_directory(\n",
        "    dir_train, target_size=(150, 150), class_mode='sparse'\n",
        ")\n",
        "gen_val = datagen_val.flow_from_directory(\n",
        "    dir_val, target_size=(150, 150), class_mode='sparse'\n",
        ")"
      ],
      "execution_count": 30,
      "outputs": [
        {
          "output_type": "stream",
          "text": [
            "Found 1522 images belonging to 2 classes.\n",
            "Found 327 images belonging to 2 classes.\n"
          ],
          "name": "stdout"
        }
      ]
    },
    {
      "cell_type": "code",
      "metadata": {
        "id": "PxVDJjqTPV6R",
        "colab_type": "code",
        "colab": {
          "base_uri": "https://localhost:8080/",
          "height": 338
        },
        "outputId": "316cdf08-d603-4de6-bea3-255d47475fdc"
      },
      "source": [
        "modelo1 = tf.keras.models.Sequential([\n",
        "    # El tamaño esperado es 150x150 con 3 bytes de color\n",
        "    tf.keras.layers.Flatten(input_shape=(150, 150, 3)),\n",
        "    # 512 neuronas en la capa interna\n",
        "    tf.keras.layers.Dense(512, activation='relu'),\n",
        "    # Probabilidad de pertenencia a cada una de las 3 clases\n",
        "    tf.keras.layers.Dense(2, activation='softmax')\n",
        "])\n",
        "\n",
        "modelo1.summary()\n",
        "\n",
        "modelo1.compile(loss='sparse_categorical_crossentropy', optimizer='adam', metrics=['accuracy'])"
      ],
      "execution_count": 31,
      "outputs": [
        {
          "output_type": "stream",
          "text": [
            "WARNING:tensorflow:From /usr/local/lib/python3.6/dist-packages/tensorflow_core/python/ops/resource_variable_ops.py:1630: calling BaseResourceVariable.__init__ (from tensorflow.python.ops.resource_variable_ops) with constraint is deprecated and will be removed in a future version.\n",
            "Instructions for updating:\n",
            "If using Keras pass *_constraint arguments to layers.\n",
            "Model: \"sequential\"\n",
            "_________________________________________________________________\n",
            "Layer (type)                 Output Shape              Param #   \n",
            "=================================================================\n",
            "flatten (Flatten)            (None, 67500)             0         \n",
            "_________________________________________________________________\n",
            "dense (Dense)                (None, 512)               34560512  \n",
            "_________________________________________________________________\n",
            "dense_1 (Dense)              (None, 2)                 1026      \n",
            "=================================================================\n",
            "Total params: 34,561,538\n",
            "Trainable params: 34,561,538\n",
            "Non-trainable params: 0\n",
            "_________________________________________________________________\n"
          ],
          "name": "stdout"
        }
      ]
    },
    {
      "cell_type": "code",
      "metadata": {
        "id": "cFC2g7r4PaPu",
        "colab_type": "code",
        "colab": {
          "base_uri": "https://localhost:8080/",
          "height": 1000
        },
        "outputId": "2b08cd24-0b05-4369-c502-f9e4150f30a3"
      },
      "source": [
        "# Entrenamiento\n",
        "historia1 = modelo1.fit_generator(gen_train, epochs=100, validation_data=gen_val,\n",
        "                                  steps_per_epoch=20, verbose=1)\n",
        "# Guardo el modelo\n",
        "modelo1.save(\"modelo1.h5\")"
      ],
      "execution_count": 37,
      "outputs": [
        {
          "output_type": "stream",
          "text": [
            "Epoch 1/100\n",
            "19/20 [===========================>..] - ETA: 0s - loss: 0.1602 - acc: 0.9342Epoch 1/100\n",
            "20/20 [==============================] - 8s 424ms/step - loss: 0.1540 - acc: 0.9375 - val_loss: 0.1964 - val_acc: 0.9511\n",
            "Epoch 2/100\n",
            "19/20 [===========================>..] - ETA: 0s - loss: 0.5541 - acc: 0.8300Epoch 1/100\n",
            "20/20 [==============================] - 7s 369ms/step - loss: 0.6074 - acc: 0.8211 - val_loss: 0.5481 - val_acc: 0.8869\n",
            "Epoch 3/100\n",
            "19/20 [===========================>..] - ETA: 0s - loss: 1.1480 - acc: 0.7286Epoch 1/100\n",
            "20/20 [==============================] - 8s 387ms/step - loss: 1.1110 - acc: 0.7328 - val_loss: 0.5756 - val_acc: 0.7859\n",
            "Epoch 4/100\n",
            "19/20 [===========================>..] - ETA: 0s - loss: 0.5640 - acc: 0.8249Epoch 1/100\n",
            "20/20 [==============================] - 8s 386ms/step - loss: 0.5426 - acc: 0.8307 - val_loss: 0.4530 - val_acc: 0.7768\n",
            "Epoch 5/100\n",
            "19/20 [===========================>..] - ETA: 0s - loss: 0.1646 - acc: 0.9359Epoch 1/100\n",
            "20/20 [==============================] - 7s 374ms/step - loss: 0.1692 - acc: 0.9375 - val_loss: 0.1925 - val_acc: 0.9358\n",
            "Epoch 6/100\n",
            "19/20 [===========================>..] - ETA: 0s - loss: 0.1786 - acc: 0.9428Epoch 1/100\n",
            "20/20 [==============================] - 8s 385ms/step - loss: 0.1802 - acc: 0.9441 - val_loss: 0.1475 - val_acc: 0.9602\n",
            "Epoch 7/100\n",
            "19/20 [===========================>..] - ETA: 0s - loss: 0.1526 - acc: 0.9408Epoch 1/100\n",
            "20/20 [==============================] - 7s 356ms/step - loss: 0.1657 - acc: 0.9391 - val_loss: 0.8599 - val_acc: 0.6881\n",
            "Epoch 8/100\n",
            "19/20 [===========================>..] - ETA: 0s - loss: 0.6497 - acc: 0.8010Epoch 1/100\n",
            "20/20 [==============================] - 8s 401ms/step - loss: 0.6532 - acc: 0.8000 - val_loss: 0.7113 - val_acc: 0.8287\n",
            "Epoch 9/100\n",
            "19/20 [===========================>..] - ETA: 0s - loss: 0.8109 - acc: 0.7694Epoch 1/100\n",
            "20/20 [==============================] - 8s 387ms/step - loss: 0.7833 - acc: 0.7764 - val_loss: 0.2617 - val_acc: 0.9327\n",
            "Epoch 10/100\n",
            "19/20 [===========================>..] - ETA: 0s - loss: 0.2599 - acc: 0.9046Epoch 1/100\n",
            "20/20 [==============================] - 7s 371ms/step - loss: 0.2688 - acc: 0.9000 - val_loss: 0.2044 - val_acc: 0.9572\n",
            "Epoch 11/100\n",
            "19/20 [===========================>..] - ETA: 0s - loss: 0.2177 - acc: 0.9343Epoch 1/100\n",
            "20/20 [==============================] - 8s 384ms/step - loss: 0.2122 - acc: 0.9345 - val_loss: 0.2086 - val_acc: 0.9480\n",
            "Epoch 12/100\n",
            "19/20 [===========================>..] - ETA: 0s - loss: 0.1883 - acc: 0.9293Epoch 1/100\n",
            "20/20 [==============================] - 8s 375ms/step - loss: 0.1806 - acc: 0.9328 - val_loss: 0.2011 - val_acc: 0.9511\n",
            "Epoch 13/100\n",
            "19/20 [===========================>..] - ETA: 0s - loss: 0.2288 - acc: 0.9040Epoch 1/100\n",
            "20/20 [==============================] - 8s 380ms/step - loss: 0.2211 - acc: 0.9073 - val_loss: 0.1524 - val_acc: 0.9480\n",
            "Epoch 14/100\n",
            "19/20 [===========================>..] - ETA: 0s - loss: 0.1967 - acc: 0.9342Epoch 1/100\n",
            "20/20 [==============================] - 7s 374ms/step - loss: 0.1967 - acc: 0.9312 - val_loss: 0.1597 - val_acc: 0.9572\n",
            "Epoch 15/100\n",
            "19/20 [===========================>..] - ETA: 0s - loss: 0.1667 - acc: 0.9523Epoch 1/100\n",
            "20/20 [==============================] - 8s 384ms/step - loss: 0.1886 - acc: 0.9453 - val_loss: 0.3957 - val_acc: 0.8226\n",
            "Epoch 16/100\n",
            "19/20 [===========================>..] - ETA: 0s - loss: 0.1747 - acc: 0.9360Epoch 1/100\n",
            "20/20 [==============================] - 8s 378ms/step - loss: 0.2224 - acc: 0.9153 - val_loss: 0.2146 - val_acc: 0.9450\n",
            "Epoch 17/100\n",
            "19/20 [===========================>..] - ETA: 0s - loss: 0.5030 - acc: 0.8701Epoch 1/100\n",
            "20/20 [==============================] - 7s 373ms/step - loss: 0.4787 - acc: 0.8766 - val_loss: 0.9242 - val_acc: 0.6789\n",
            "Epoch 18/100\n",
            "19/20 [===========================>..] - ETA: 0s - loss: 0.7758 - acc: 0.7977Epoch 1/100\n",
            "20/20 [==============================] - 8s 385ms/step - loss: 0.7396 - acc: 0.8078 - val_loss: 0.9606 - val_acc: 0.6391\n",
            "Epoch 19/100\n",
            "19/20 [===========================>..] - ETA: 0s - loss: 0.3009 - acc: 0.8889Epoch 1/100\n",
            "20/20 [==============================] - 7s 354ms/step - loss: 0.3048 - acc: 0.8866 - val_loss: 1.2159 - val_acc: 0.8165\n",
            "Epoch 20/100\n",
            "19/20 [===========================>..] - ETA: 0s - loss: 1.3629 - acc: 0.7516Epoch 1/100\n",
            "20/20 [==============================] - 8s 414ms/step - loss: 1.4633 - acc: 0.7469 - val_loss: 8.3177 - val_acc: 0.1896\n",
            "Epoch 21/100\n",
            "19/20 [===========================>..] - ETA: 0s - loss: 1.0123 - acc: 0.8405Epoch 1/100\n",
            "20/20 [==============================] - 8s 387ms/step - loss: 0.9668 - acc: 0.8469 - val_loss: 0.2230 - val_acc: 0.9327\n",
            "Epoch 22/100\n",
            "19/20 [===========================>..] - ETA: 0s - loss: 0.2406 - acc: 0.9158Epoch 1/100\n",
            "20/20 [==============================] - 7s 373ms/step - loss: 0.2310 - acc: 0.9185 - val_loss: 0.2203 - val_acc: 0.9419\n",
            "Epoch 23/100\n",
            "19/20 [===========================>..] - ETA: 0s - loss: 0.2050 - acc: 0.9227Epoch 1/100\n",
            "20/20 [==============================] - 8s 384ms/step - loss: 0.1987 - acc: 0.9250 - val_loss: 0.2940 - val_acc: 0.9450\n",
            "Epoch 24/100\n",
            "19/20 [===========================>..] - ETA: 0s - loss: 0.4803 - acc: 0.8535Epoch 1/100\n",
            "20/20 [==============================] - 7s 372ms/step - loss: 0.4598 - acc: 0.8594 - val_loss: 0.2782 - val_acc: 0.9388\n",
            "Epoch 25/100\n",
            "19/20 [===========================>..] - ETA: 0s - loss: 0.1777 - acc: 0.9428Epoch 1/100\n",
            "20/20 [==============================] - 8s 379ms/step - loss: 0.1710 - acc: 0.9441 - val_loss: 0.3416 - val_acc: 0.9205\n",
            "Epoch 26/100\n",
            "19/20 [===========================>..] - ETA: 0s - loss: 0.8705 - acc: 0.8076Epoch 1/100\n",
            "20/20 [==============================] - 7s 372ms/step - loss: 0.8465 - acc: 0.8094 - val_loss: 2.4709 - val_acc: 0.4067\n",
            "Epoch 27/100\n",
            "19/20 [===========================>..] - ETA: 0s - loss: 0.3105 - acc: 0.9013Epoch 1/100\n",
            "20/20 [==============================] - 8s 391ms/step - loss: 0.2959 - acc: 0.9062 - val_loss: 0.5797 - val_acc: 0.7798\n",
            "Epoch 28/100\n",
            "19/20 [===========================>..] - ETA: 0s - loss: 0.2196 - acc: 0.9259Epoch 1/100\n",
            "20/20 [==============================] - 8s 387ms/step - loss: 0.2226 - acc: 0.9265 - val_loss: 0.2281 - val_acc: 0.9266\n",
            "Epoch 29/100\n",
            "19/20 [===========================>..] - ETA: 0s - loss: 0.2462 - acc: 0.9342Epoch 1/100\n",
            "20/20 [==============================] - 8s 379ms/step - loss: 0.2436 - acc: 0.9344 - val_loss: 0.1604 - val_acc: 0.9511\n",
            "Epoch 30/100\n",
            "19/20 [===========================>..] - ETA: 0s - loss: 0.1003 - acc: 0.9663Epoch 1/100\n",
            "20/20 [==============================] - 8s 380ms/step - loss: 0.1016 - acc: 0.9665 - val_loss: 0.2453 - val_acc: 0.9450\n",
            "Epoch 31/100\n",
            "19/20 [===========================>..] - ETA: 0s - loss: 0.3417 - acc: 0.8750Epoch 1/100\n",
            "20/20 [==============================] - 7s 349ms/step - loss: 0.3979 - acc: 0.8672 - val_loss: 0.6451 - val_acc: 0.8563\n",
            "Epoch 32/100\n",
            "19/20 [===========================>..] - ETA: 0s - loss: 0.8271 - acc: 0.7946Epoch 1/100\n",
            "20/20 [==============================] - 8s 404ms/step - loss: 0.8076 - acc: 0.8019 - val_loss: 0.5487 - val_acc: 0.8287\n",
            "Epoch 33/100\n",
            "19/20 [===========================>..] - ETA: 0s - loss: 0.2366 - acc: 0.9309Epoch 1/100\n",
            "20/20 [==============================] - 8s 390ms/step - loss: 0.2261 - acc: 0.9344 - val_loss: 0.1619 - val_acc: 0.9541\n",
            "Epoch 34/100\n",
            "19/20 [===========================>..] - ETA: 0s - loss: 0.1147 - acc: 0.9630Epoch 1/100\n",
            "20/20 [==============================] - 7s 368ms/step - loss: 0.1173 - acc: 0.9633 - val_loss: 0.1380 - val_acc: 0.9572\n",
            "Epoch 35/100\n",
            "19/20 [===========================>..] - ETA: 0s - loss: 0.1228 - acc: 0.9655Epoch 1/100\n",
            "20/20 [==============================] - 8s 390ms/step - loss: 0.1169 - acc: 0.9672 - val_loss: 0.1565 - val_acc: 0.9602\n",
            "Epoch 36/100\n",
            "19/20 [===========================>..] - ETA: 0s - loss: 0.1589 - acc: 0.9523Epoch 1/100\n",
            "20/20 [==============================] - 8s 376ms/step - loss: 0.1558 - acc: 0.9531 - val_loss: 0.1793 - val_acc: 0.9480\n",
            "Epoch 37/100\n",
            "19/20 [===========================>..] - ETA: 0s - loss: 0.2506 - acc: 0.9194Epoch 1/100\n",
            "20/20 [==============================] - 8s 387ms/step - loss: 0.2494 - acc: 0.9187 - val_loss: 0.1770 - val_acc: 0.9480\n",
            "Epoch 38/100\n",
            "19/20 [===========================>..] - ETA: 0s - loss: 0.1235 - acc: 0.9474Epoch 1/100\n",
            "20/20 [==============================] - 7s 372ms/step - loss: 0.1476 - acc: 0.9391 - val_loss: 0.1299 - val_acc: 0.9664\n",
            "Epoch 39/100\n",
            "19/20 [===========================>..] - ETA: 0s - loss: 0.1350 - acc: 0.9655Epoch 1/100\n",
            "20/20 [==============================] - 8s 378ms/step - loss: 0.1306 - acc: 0.9657 - val_loss: 0.1442 - val_acc: 0.9602\n",
            "Epoch 40/100\n",
            "19/20 [===========================>..] - ETA: 0s - loss: 0.0824 - acc: 0.9770Epoch 1/100\n",
            "20/20 [==============================] - 8s 387ms/step - loss: 0.0922 - acc: 0.9750 - val_loss: 0.1302 - val_acc: 0.9633\n",
            "Epoch 41/100\n",
            "19/20 [===========================>..] - ETA: 0s - loss: 0.0898 - acc: 0.9688Epoch 1/100\n",
            "20/20 [==============================] - 7s 369ms/step - loss: 0.0955 - acc: 0.9625 - val_loss: 0.4536 - val_acc: 0.8716\n",
            "Epoch 42/100\n",
            "19/20 [===========================>..] - ETA: 0s - loss: 0.1506 - acc: 0.9478Epoch 1/100\n",
            "20/20 [==============================] - 8s 387ms/step - loss: 0.1535 - acc: 0.9457 - val_loss: 0.5605 - val_acc: 0.8104\n",
            "Epoch 43/100\n",
            "19/20 [===========================>..] - ETA: 0s - loss: 0.0820 - acc: 0.9737Epoch 1/100\n",
            "20/20 [==============================] - 7s 348ms/step - loss: 0.0858 - acc: 0.9719 - val_loss: 0.1708 - val_acc: 0.9633\n",
            "Epoch 44/100\n",
            "19/20 [===========================>..] - ETA: 0s - loss: 0.1301 - acc: 0.9671Epoch 1/100\n",
            "20/20 [==============================] - 8s 396ms/step - loss: 0.1293 - acc: 0.9641 - val_loss: 0.3306 - val_acc: 0.8899\n",
            "Epoch 45/100\n",
            "19/20 [===========================>..] - ETA: 0s - loss: 0.0790 - acc: 0.9764Epoch 1/100\n",
            "20/20 [==============================] - 8s 385ms/step - loss: 0.0806 - acc: 0.9744 - val_loss: 0.1293 - val_acc: 0.9572\n",
            "Epoch 46/100\n",
            "19/20 [===========================>..] - ETA: 0s - loss: 0.0539 - acc: 0.9836Epoch 1/100\n",
            "20/20 [==============================] - 7s 368ms/step - loss: 0.0521 - acc: 0.9840 - val_loss: 0.1444 - val_acc: 0.9572\n",
            "Epoch 47/100\n",
            "19/20 [===========================>..] - ETA: 0s - loss: 0.0920 - acc: 0.9704Epoch 1/100\n",
            "20/20 [==============================] - 8s 381ms/step - loss: 0.0889 - acc: 0.9719 - val_loss: 0.1597 - val_acc: 0.9450\n",
            "Epoch 48/100\n",
            "19/20 [===========================>..] - ETA: 0s - loss: 0.1193 - acc: 0.9605Epoch 1/100\n",
            "20/20 [==============================] - 7s 373ms/step - loss: 0.1143 - acc: 0.9625 - val_loss: 0.1969 - val_acc: 0.9541\n",
            "Epoch 49/100\n",
            "19/20 [===========================>..] - ETA: 0s - loss: 0.2449 - acc: 0.9030Epoch 1/100\n",
            "20/20 [==============================] - 8s 384ms/step - loss: 0.2452 - acc: 0.9031 - val_loss: 0.5384 - val_acc: 0.8838\n",
            "Epoch 50/100\n",
            "19/20 [===========================>..] - ETA: 0s - loss: 0.1512 - acc: 0.9428Epoch 1/100\n",
            "20/20 [==============================] - 7s 373ms/step - loss: 0.1543 - acc: 0.9441 - val_loss: 0.1847 - val_acc: 0.9450\n",
            "Epoch 51/100\n",
            "19/20 [===========================>..] - ETA: 0s - loss: 1.1988 - acc: 0.7980Epoch 1/100\n",
            "20/20 [==============================] - 8s 383ms/step - loss: 1.2190 - acc: 0.7827 - val_loss: 0.8456 - val_acc: 0.7431\n",
            "Epoch 52/100\n",
            "19/20 [===========================>..] - ETA: 0s - loss: 0.9614 - acc: 0.8141Epoch 1/100\n",
            "20/20 [==============================] - 8s 386ms/step - loss: 0.9143 - acc: 0.8234 - val_loss: 0.1691 - val_acc: 0.9572\n",
            "Epoch 53/100\n",
            "19/20 [===========================>..] - ETA: 0s - loss: 0.4564 - acc: 0.8704Epoch 1/100\n",
            "20/20 [==============================] - 7s 371ms/step - loss: 0.4602 - acc: 0.8706 - val_loss: 0.8113 - val_acc: 0.8349\n",
            "Epoch 54/100\n",
            "19/20 [===========================>..] - ETA: 0s - loss: 0.4583 - acc: 0.8766Epoch 1/100\n",
            "20/20 [==============================] - 8s 389ms/step - loss: 0.4358 - acc: 0.8828 - val_loss: 0.3231 - val_acc: 0.9480\n",
            "Epoch 55/100\n",
            "19/20 [===========================>..] - ETA: 0s - loss: 0.2640 - acc: 0.9145Epoch 1/100\n",
            "20/20 [==============================] - 7s 353ms/step - loss: 0.2623 - acc: 0.9125 - val_loss: 0.1785 - val_acc: 0.9480\n",
            "Epoch 56/100\n",
            "19/20 [===========================>..] - ETA: 0s - loss: 0.1584 - acc: 0.9572Epoch 1/100\n",
            "20/20 [==============================] - 8s 405ms/step - loss: 0.1631 - acc: 0.9531 - val_loss: 0.1702 - val_acc: 0.9572\n",
            "Epoch 57/100\n",
            "19/20 [===========================>..] - ETA: 0s - loss: 0.1635 - acc: 0.9326Epoch 1/100\n",
            "20/20 [==============================] - 8s 379ms/step - loss: 0.1763 - acc: 0.9250 - val_loss: 0.2001 - val_acc: 0.9602\n",
            "Epoch 58/100\n",
            "19/20 [===========================>..] - ETA: 0s - loss: 0.1334 - acc: 0.9613Epoch 1/100\n",
            "20/20 [==============================] - 7s 374ms/step - loss: 0.1298 - acc: 0.9617 - val_loss: 0.2577 - val_acc: 0.9144\n",
            "Epoch 59/100\n",
            "19/20 [===========================>..] - ETA: 0s - loss: 0.1038 - acc: 0.9680Epoch 1/100\n",
            "20/20 [==============================] - 8s 387ms/step - loss: 0.1012 - acc: 0.9681 - val_loss: 0.4278 - val_acc: 0.8502\n",
            "Epoch 60/100\n",
            "19/20 [===========================>..] - ETA: 0s - loss: 0.1637 - acc: 0.9507Epoch 1/100\n",
            "20/20 [==============================] - 7s 373ms/step - loss: 0.1594 - acc: 0.9500 - val_loss: 0.2489 - val_acc: 0.9480\n",
            "Epoch 61/100\n",
            "19/20 [===========================>..] - ETA: 0s - loss: 0.1396 - acc: 0.9444Epoch 1/100\n",
            "20/20 [==============================] - 8s 379ms/step - loss: 0.1337 - acc: 0.9473 - val_loss: 0.1476 - val_acc: 0.9572\n",
            "Epoch 62/100\n",
            "19/20 [===========================>..] - ETA: 0s - loss: 0.1087 - acc: 0.9688Epoch 1/100\n",
            "20/20 [==============================] - 7s 366ms/step - loss: 0.1095 - acc: 0.9688 - val_loss: 0.1231 - val_acc: 0.9664\n",
            "Epoch 63/100\n",
            "19/20 [===========================>..] - ETA: 0s - loss: 0.0944 - acc: 0.9720Epoch 1/100\n",
            "20/20 [==============================] - 8s 383ms/step - loss: 0.1194 - acc: 0.9656 - val_loss: 0.1223 - val_acc: 0.9664\n",
            "Epoch 64/100\n",
            "19/20 [===========================>..] - ETA: 0s - loss: 0.1528 - acc: 0.9539Epoch 1/100\n",
            "20/20 [==============================] - 8s 381ms/step - loss: 0.1466 - acc: 0.9547 - val_loss: 0.1252 - val_acc: 0.9602\n",
            "Epoch 65/100\n",
            "19/20 [===========================>..] - ETA: 0s - loss: 0.1351 - acc: 0.9562Epoch 1/100\n",
            "20/20 [==============================] - 7s 368ms/step - loss: 0.1351 - acc: 0.9553 - val_loss: 0.1399 - val_acc: 0.9572\n",
            "Epoch 66/100\n",
            "19/20 [===========================>..] - ETA: 0s - loss: 0.0911 - acc: 0.9697Epoch 1/100\n",
            "20/20 [==============================] - 8s 386ms/step - loss: 0.0913 - acc: 0.9696 - val_loss: 0.3495 - val_acc: 0.8991\n",
            "Epoch 67/100\n",
            "19/20 [===========================>..] - ETA: 0s - loss: 0.0794 - acc: 0.9720Epoch 1/100\n",
            "20/20 [==============================] - 7s 352ms/step - loss: 0.0757 - acc: 0.9734 - val_loss: 0.1257 - val_acc: 0.9664\n",
            "Epoch 68/100\n",
            "19/20 [===========================>..] - ETA: 0s - loss: 0.0682 - acc: 0.9803Epoch 1/100\n",
            "20/20 [==============================] - 8s 402ms/step - loss: 0.0726 - acc: 0.9797 - val_loss: 0.2280 - val_acc: 0.9511\n",
            "Epoch 69/100\n",
            "19/20 [===========================>..] - ETA: 0s - loss: 0.0553 - acc: 0.9848Epoch 1/100\n",
            "20/20 [==============================] - 8s 386ms/step - loss: 0.0527 - acc: 0.9856 - val_loss: 0.1375 - val_acc: 0.9602\n",
            "Epoch 70/100\n",
            "19/20 [===========================>..] - ETA: 0s - loss: 0.0755 - acc: 0.9770Epoch 1/100\n",
            "20/20 [==============================] - 7s 367ms/step - loss: 0.0720 - acc: 0.9781 - val_loss: 0.2092 - val_acc: 0.9205\n",
            "Epoch 71/100\n",
            "19/20 [===========================>..] - ETA: 0s - loss: 0.0216 - acc: 0.9949Epoch 1/100\n",
            "20/20 [==============================] - 8s 381ms/step - loss: 0.0227 - acc: 0.9952 - val_loss: 0.1231 - val_acc: 0.9664\n",
            "Epoch 72/100\n",
            "19/20 [===========================>..] - ETA: 0s - loss: 0.0763 - acc: 0.9688Epoch 1/100\n",
            "20/20 [==============================] - 7s 374ms/step - loss: 0.0731 - acc: 0.9703 - val_loss: 0.1654 - val_acc: 0.9419\n",
            "Epoch 73/100\n",
            "19/20 [===========================>..] - ETA: 0s - loss: 0.0928 - acc: 0.9663Epoch 1/100\n",
            "20/20 [==============================] - 8s 381ms/step - loss: 0.0907 - acc: 0.9681 - val_loss: 0.1980 - val_acc: 0.9205\n",
            "Epoch 74/100\n",
            "19/20 [===========================>..] - ETA: 0s - loss: 0.0792 - acc: 0.9671Epoch 1/100\n",
            "20/20 [==============================] - 7s 369ms/step - loss: 0.0756 - acc: 0.9688 - val_loss: 0.1178 - val_acc: 0.9664\n",
            "Epoch 75/100\n",
            "19/20 [===========================>..] - ETA: 0s - loss: 0.0452 - acc: 0.9868Epoch 1/100\n",
            "20/20 [==============================] - 8s 383ms/step - loss: 0.0562 - acc: 0.9828 - val_loss: 0.1406 - val_acc: 0.9602\n",
            "Epoch 76/100\n",
            "19/20 [===========================>..] - ETA: 0s - loss: 0.2627 - acc: 0.8990Epoch 1/100\n",
            "20/20 [==============================] - 8s 379ms/step - loss: 0.2712 - acc: 0.8962 - val_loss: 0.1385 - val_acc: 0.9602\n",
            "Epoch 77/100\n",
            "19/20 [===========================>..] - ETA: 0s - loss: 0.3539 - acc: 0.8750Epoch 1/100\n",
            "20/20 [==============================] - 7s 375ms/step - loss: 0.3446 - acc: 0.8781 - val_loss: 0.9304 - val_acc: 0.7095\n",
            "Epoch 78/100\n",
            "19/20 [===========================>..] - ETA: 0s - loss: 0.1140 - acc: 0.9638Epoch 1/100\n",
            "20/20 [==============================] - 8s 389ms/step - loss: 0.1087 - acc: 0.9656 - val_loss: 0.1319 - val_acc: 0.9602\n",
            "Epoch 79/100\n",
            "19/20 [===========================>..] - ETA: 0s - loss: 0.3141 - acc: 0.8973Epoch 1/100\n",
            "20/20 [==============================] - 7s 351ms/step - loss: 0.2996 - acc: 0.9026 - val_loss: 0.1248 - val_acc: 0.9602\n",
            "Epoch 80/100\n",
            "19/20 [===========================>..] - ETA: 0s - loss: 0.0708 - acc: 0.9747Epoch 1/100\n",
            "20/20 [==============================] - 8s 404ms/step - loss: 0.0682 - acc: 0.9760 - val_loss: 0.1399 - val_acc: 0.9602\n",
            "Epoch 81/100\n",
            "19/20 [===========================>..] - ETA: 0s - loss: 0.0854 - acc: 0.9720Epoch 1/100\n",
            "20/20 [==============================] - 8s 389ms/step - loss: 0.0815 - acc: 0.9734 - val_loss: 0.1617 - val_acc: 0.9633\n",
            "Epoch 82/100\n",
            "19/20 [===========================>..] - ETA: 0s - loss: 0.1051 - acc: 0.9622Epoch 1/100\n",
            "20/20 [==============================] - 7s 374ms/step - loss: 0.1095 - acc: 0.9578 - val_loss: 0.5866 - val_acc: 0.7890\n",
            "Epoch 83/100\n",
            "19/20 [===========================>..] - ETA: 0s - loss: 0.1548 - acc: 0.9444Epoch 1/100\n",
            "20/20 [==============================] - 8s 381ms/step - loss: 0.1487 - acc: 0.9457 - val_loss: 0.1397 - val_acc: 0.9572\n",
            "Epoch 84/100\n",
            "19/20 [===========================>..] - ETA: 0s - loss: 0.1360 - acc: 0.9539Epoch 1/100\n",
            "20/20 [==============================] - 7s 373ms/step - loss: 0.1321 - acc: 0.9547 - val_loss: 0.1463 - val_acc: 0.9633\n",
            "Epoch 85/100\n",
            "19/20 [===========================>..] - ETA: 0s - loss: 0.0726 - acc: 0.9803Epoch 1/100\n",
            "20/20 [==============================] - 8s 382ms/step - loss: 0.0693 - acc: 0.9812 - val_loss: 0.1473 - val_acc: 0.9633\n",
            "Epoch 86/100\n",
            "19/20 [===========================>..] - ETA: 0s - loss: 0.0508 - acc: 0.9832Epoch 1/100\n",
            "20/20 [==============================] - 7s 367ms/step - loss: 0.0487 - acc: 0.9840 - val_loss: 0.1652 - val_acc: 0.9541\n",
            "Epoch 87/100\n",
            "19/20 [===========================>..] - ETA: 0s - loss: 0.0605 - acc: 0.9764Epoch 1/100\n",
            "20/20 [==============================] - 8s 379ms/step - loss: 0.0709 - acc: 0.9728 - val_loss: 0.1330 - val_acc: 0.9572\n",
            "Epoch 88/100\n",
            "19/20 [===========================>..] - ETA: 0s - loss: 0.0495 - acc: 0.9819Epoch 1/100\n",
            "20/20 [==============================] - 8s 388ms/step - loss: 0.0493 - acc: 0.9812 - val_loss: 0.1093 - val_acc: 0.9694\n",
            "Epoch 89/100\n",
            "19/20 [===========================>..] - ETA: 0s - loss: 0.0555 - acc: 0.9819Epoch 1/100\n",
            "20/20 [==============================] - 8s 383ms/step - loss: 0.0530 - acc: 0.9828 - val_loss: 0.1153 - val_acc: 0.9664\n",
            "Epoch 90/100\n",
            "19/20 [===========================>..] - ETA: 0s - loss: 0.1265 - acc: 0.9474Epoch 1/100\n",
            "20/20 [==============================] - 8s 383ms/step - loss: 0.1278 - acc: 0.9469 - val_loss: 0.1286 - val_acc: 0.9633\n",
            "Epoch 91/100\n",
            "19/20 [===========================>..] - ETA: 0s - loss: 0.1630 - acc: 0.9377Epoch 1/100\n",
            "20/20 [==============================] - 7s 341ms/step - loss: 0.1945 - acc: 0.9281 - val_loss: 0.1564 - val_acc: 0.9419\n",
            "Epoch 92/100\n",
            "19/20 [===========================>..] - ETA: 0s - loss: 0.1852 - acc: 0.9260Epoch 1/100\n",
            "20/20 [==============================] - 8s 398ms/step - loss: 0.1870 - acc: 0.9281 - val_loss: 0.1758 - val_acc: 0.9327\n",
            "Epoch 93/100\n",
            "19/20 [===========================>..] - ETA: 0s - loss: 0.0493 - acc: 0.9832Epoch 1/100\n",
            "20/20 [==============================] - 8s 386ms/step - loss: 0.0490 - acc: 0.9840 - val_loss: 0.1195 - val_acc: 0.9664\n",
            "Epoch 94/100\n",
            "19/20 [===========================>..] - ETA: 0s - loss: 0.0502 - acc: 0.9781Epoch 1/100\n",
            "20/20 [==============================] - 7s 370ms/step - loss: 0.0480 - acc: 0.9792 - val_loss: 0.3638 - val_acc: 0.8930\n",
            "Epoch 95/100\n",
            "19/20 [===========================>..] - ETA: 0s - loss: 0.1025 - acc: 0.9622Epoch 1/100\n",
            "20/20 [==============================] - 8s 381ms/step - loss: 0.0992 - acc: 0.9625 - val_loss: 0.1292 - val_acc: 0.9572\n",
            "Epoch 96/100\n",
            "19/20 [===========================>..] - ETA: 0s - loss: 0.0554 - acc: 0.9803Epoch 1/100\n",
            "20/20 [==============================] - 7s 375ms/step - loss: 0.0542 - acc: 0.9797 - val_loss: 0.1313 - val_acc: 0.9602\n",
            "Epoch 97/100\n",
            "19/20 [===========================>..] - ETA: 0s - loss: 0.0470 - acc: 0.9868Epoch 1/100\n",
            "20/20 [==============================] - 8s 380ms/step - loss: 0.0472 - acc: 0.9856 - val_loss: 0.1175 - val_acc: 0.9694\n",
            "Epoch 98/100\n",
            "19/20 [===========================>..] - ETA: 0s - loss: 0.0334 - acc: 0.9901Epoch 1/100\n",
            "20/20 [==============================] - 7s 366ms/step - loss: 0.0338 - acc: 0.9891 - val_loss: 0.1393 - val_acc: 0.9480\n",
            "Epoch 99/100\n",
            "19/20 [===========================>..] - ETA: 0s - loss: 0.0447 - acc: 0.9885Epoch 1/100\n",
            "20/20 [==============================] - 8s 382ms/step - loss: 0.0489 - acc: 0.9859 - val_loss: 0.2892 - val_acc: 0.8899\n",
            "Epoch 100/100\n",
            "19/20 [===========================>..] - ETA: 0s - loss: 0.0796 - acc: 0.9737Epoch 1/100\n",
            "20/20 [==============================] - 8s 380ms/step - loss: 0.0769 - acc: 0.9750 - val_loss: 0.1260 - val_acc: 0.9602\n"
          ],
          "name": "stdout"
        }
      ]
    },
    {
      "cell_type": "code",
      "metadata": {
        "id": "aFL3DePAPdbH",
        "colab_type": "code",
        "colab": {
          "base_uri": "https://localhost:8080/",
          "height": 281
        },
        "outputId": "e860f0f1-d5e3-4258-bf0b-5eb6411c6581"
      },
      "source": [
        "import matplotlib.pyplot as plt\n",
        "\n",
        "def plot_history(history):\n",
        "  acc = history.history['acc']\n",
        "  val_acc = history.history['val_acc']\n",
        "  loss = history.history['loss']\n",
        "  val_loss = history.history['val_loss']\n",
        "\n",
        "  epocas = range(len(acc))\n",
        "\n",
        "  plt.plot(epocas, acc, 'r', label='Entrenamiento')\n",
        "  plt.plot(epocas, val_acc, 'b', label='Validación')\n",
        "  plt.title('Precisión en cada época')\n",
        "  plt.legend(loc=0)\n",
        "  \n",
        "plot_history(historia1)"
      ],
      "execution_count": 38,
      "outputs": [
        {
          "output_type": "display_data",
          "data": {
            "image/png": "[encoded data removed]",
            "text/plain": [
              "<Figure size 432x288 with 1 Axes>"
            ]
          },
          "metadata": {
            "tags": []
          }
        }
      ]
    }
  ]
}